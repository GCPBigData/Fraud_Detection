{
 "cells": [
  {
   "cell_type": "markdown",
   "metadata": {},
   "source": [
    "# Modelo de detecção de fraudes em transações de cartão de crédito"
   ]
  },
  {
   "cell_type": "markdown",
   "metadata": {},
   "source": [
    "* Solução desenvolvida por Danilo Morales Teixeira\n",
    "* 25/03/2020"
   ]
  },
  {
   "cell_type": "markdown",
   "metadata": {},
   "source": [
    "Importando bibliotecas fundamentais de ciência de dados"
   ]
  },
  {
   "cell_type": "code",
   "execution_count": 1,
   "metadata": {},
   "outputs": [],
   "source": [
    "import numpy as np\n",
    "import pandas as pd\n",
    "import matplotlib.pyplot as plt\n",
    "import seaborn as sns"
   ]
  },
  {
   "cell_type": "markdown",
   "metadata": {},
   "source": [
    "Desativando avisos que não são importantes"
   ]
  },
  {
   "cell_type": "code",
   "execution_count": 2,
   "metadata": {},
   "outputs": [],
   "source": [
    "import warnings\n",
    "warnings.filterwarnings(\"ignore\")"
   ]
  },
  {
   "cell_type": "markdown",
   "metadata": {},
   "source": [
    "Lendo arquivo de dados com a bibliteca Pandas"
   ]
  },
  {
   "cell_type": "code",
   "execution_count": 3,
   "metadata": {},
   "outputs": [],
   "source": [
    "dados = pd.read_csv('creditcard.csv')"
   ]
  },
  {
   "cell_type": "markdown",
   "metadata": {},
   "source": [
    "Exibindo cinco primeiras linhas"
   ]
  },
  {
   "cell_type": "code",
   "execution_count": 4,
   "metadata": {},
   "outputs": [
    {
     "data": {
      "text/html": [
       "<div>\n",
       "<style scoped>\n",
       "    .dataframe tbody tr th:only-of-type {\n",
       "        vertical-align: middle;\n",
       "    }\n",
       "\n",
       "    .dataframe tbody tr th {\n",
       "        vertical-align: top;\n",
       "    }\n",
       "\n",
       "    .dataframe thead th {\n",
       "        text-align: right;\n",
       "    }\n",
       "</style>\n",
       "<table border=\"1\" class=\"dataframe\">\n",
       "  <thead>\n",
       "    <tr style=\"text-align: right;\">\n",
       "      <th></th>\n",
       "      <th>Time</th>\n",
       "      <th>V1</th>\n",
       "      <th>V2</th>\n",
       "      <th>V3</th>\n",
       "      <th>V4</th>\n",
       "      <th>V5</th>\n",
       "      <th>V6</th>\n",
       "      <th>V7</th>\n",
       "      <th>V8</th>\n",
       "      <th>V9</th>\n",
       "      <th>...</th>\n",
       "      <th>V21</th>\n",
       "      <th>V22</th>\n",
       "      <th>V23</th>\n",
       "      <th>V24</th>\n",
       "      <th>V25</th>\n",
       "      <th>V26</th>\n",
       "      <th>V27</th>\n",
       "      <th>V28</th>\n",
       "      <th>Amount</th>\n",
       "      <th>Class</th>\n",
       "    </tr>\n",
       "  </thead>\n",
       "  <tbody>\n",
       "    <tr>\n",
       "      <th>0</th>\n",
       "      <td>0.0</td>\n",
       "      <td>-1.359807</td>\n",
       "      <td>-0.072781</td>\n",
       "      <td>2.536347</td>\n",
       "      <td>1.378155</td>\n",
       "      <td>-0.338321</td>\n",
       "      <td>0.462388</td>\n",
       "      <td>0.239599</td>\n",
       "      <td>0.098698</td>\n",
       "      <td>0.363787</td>\n",
       "      <td>...</td>\n",
       "      <td>-0.018307</td>\n",
       "      <td>0.277838</td>\n",
       "      <td>-0.110474</td>\n",
       "      <td>0.066928</td>\n",
       "      <td>0.128539</td>\n",
       "      <td>-0.189115</td>\n",
       "      <td>0.133558</td>\n",
       "      <td>-0.021053</td>\n",
       "      <td>149.62</td>\n",
       "      <td>0</td>\n",
       "    </tr>\n",
       "    <tr>\n",
       "      <th>1</th>\n",
       "      <td>0.0</td>\n",
       "      <td>1.191857</td>\n",
       "      <td>0.266151</td>\n",
       "      <td>0.166480</td>\n",
       "      <td>0.448154</td>\n",
       "      <td>0.060018</td>\n",
       "      <td>-0.082361</td>\n",
       "      <td>-0.078803</td>\n",
       "      <td>0.085102</td>\n",
       "      <td>-0.255425</td>\n",
       "      <td>...</td>\n",
       "      <td>-0.225775</td>\n",
       "      <td>-0.638672</td>\n",
       "      <td>0.101288</td>\n",
       "      <td>-0.339846</td>\n",
       "      <td>0.167170</td>\n",
       "      <td>0.125895</td>\n",
       "      <td>-0.008983</td>\n",
       "      <td>0.014724</td>\n",
       "      <td>2.69</td>\n",
       "      <td>0</td>\n",
       "    </tr>\n",
       "    <tr>\n",
       "      <th>2</th>\n",
       "      <td>1.0</td>\n",
       "      <td>-1.358354</td>\n",
       "      <td>-1.340163</td>\n",
       "      <td>1.773209</td>\n",
       "      <td>0.379780</td>\n",
       "      <td>-0.503198</td>\n",
       "      <td>1.800499</td>\n",
       "      <td>0.791461</td>\n",
       "      <td>0.247676</td>\n",
       "      <td>-1.514654</td>\n",
       "      <td>...</td>\n",
       "      <td>0.247998</td>\n",
       "      <td>0.771679</td>\n",
       "      <td>0.909412</td>\n",
       "      <td>-0.689281</td>\n",
       "      <td>-0.327642</td>\n",
       "      <td>-0.139097</td>\n",
       "      <td>-0.055353</td>\n",
       "      <td>-0.059752</td>\n",
       "      <td>378.66</td>\n",
       "      <td>0</td>\n",
       "    </tr>\n",
       "    <tr>\n",
       "      <th>3</th>\n",
       "      <td>1.0</td>\n",
       "      <td>-0.966272</td>\n",
       "      <td>-0.185226</td>\n",
       "      <td>1.792993</td>\n",
       "      <td>-0.863291</td>\n",
       "      <td>-0.010309</td>\n",
       "      <td>1.247203</td>\n",
       "      <td>0.237609</td>\n",
       "      <td>0.377436</td>\n",
       "      <td>-1.387024</td>\n",
       "      <td>...</td>\n",
       "      <td>-0.108300</td>\n",
       "      <td>0.005274</td>\n",
       "      <td>-0.190321</td>\n",
       "      <td>-1.175575</td>\n",
       "      <td>0.647376</td>\n",
       "      <td>-0.221929</td>\n",
       "      <td>0.062723</td>\n",
       "      <td>0.061458</td>\n",
       "      <td>123.50</td>\n",
       "      <td>0</td>\n",
       "    </tr>\n",
       "    <tr>\n",
       "      <th>4</th>\n",
       "      <td>2.0</td>\n",
       "      <td>-1.158233</td>\n",
       "      <td>0.877737</td>\n",
       "      <td>1.548718</td>\n",
       "      <td>0.403034</td>\n",
       "      <td>-0.407193</td>\n",
       "      <td>0.095921</td>\n",
       "      <td>0.592941</td>\n",
       "      <td>-0.270533</td>\n",
       "      <td>0.817739</td>\n",
       "      <td>...</td>\n",
       "      <td>-0.009431</td>\n",
       "      <td>0.798278</td>\n",
       "      <td>-0.137458</td>\n",
       "      <td>0.141267</td>\n",
       "      <td>-0.206010</td>\n",
       "      <td>0.502292</td>\n",
       "      <td>0.219422</td>\n",
       "      <td>0.215153</td>\n",
       "      <td>69.99</td>\n",
       "      <td>0</td>\n",
       "    </tr>\n",
       "  </tbody>\n",
       "</table>\n",
       "<p>5 rows × 31 columns</p>\n",
       "</div>"
      ],
      "text/plain": [
       "   Time        V1        V2        V3        V4        V5        V6        V7  \\\n",
       "0   0.0 -1.359807 -0.072781  2.536347  1.378155 -0.338321  0.462388  0.239599   \n",
       "1   0.0  1.191857  0.266151  0.166480  0.448154  0.060018 -0.082361 -0.078803   \n",
       "2   1.0 -1.358354 -1.340163  1.773209  0.379780 -0.503198  1.800499  0.791461   \n",
       "3   1.0 -0.966272 -0.185226  1.792993 -0.863291 -0.010309  1.247203  0.237609   \n",
       "4   2.0 -1.158233  0.877737  1.548718  0.403034 -0.407193  0.095921  0.592941   \n",
       "\n",
       "         V8        V9  ...       V21       V22       V23       V24       V25  \\\n",
       "0  0.098698  0.363787  ... -0.018307  0.277838 -0.110474  0.066928  0.128539   \n",
       "1  0.085102 -0.255425  ... -0.225775 -0.638672  0.101288 -0.339846  0.167170   \n",
       "2  0.247676 -1.514654  ...  0.247998  0.771679  0.909412 -0.689281 -0.327642   \n",
       "3  0.377436 -1.387024  ... -0.108300  0.005274 -0.190321 -1.175575  0.647376   \n",
       "4 -0.270533  0.817739  ... -0.009431  0.798278 -0.137458  0.141267 -0.206010   \n",
       "\n",
       "        V26       V27       V28  Amount  Class  \n",
       "0 -0.189115  0.133558 -0.021053  149.62      0  \n",
       "1  0.125895 -0.008983  0.014724    2.69      0  \n",
       "2 -0.139097 -0.055353 -0.059752  378.66      0  \n",
       "3 -0.221929  0.062723  0.061458  123.50      0  \n",
       "4  0.502292  0.219422  0.215153   69.99      0  \n",
       "\n",
       "[5 rows x 31 columns]"
      ]
     },
     "execution_count": 4,
     "metadata": {},
     "output_type": "execute_result"
    }
   ],
   "source": [
    "dados.head()"
   ]
  },
  {
   "cell_type": "markdown",
   "metadata": {},
   "source": [
    "Exibindo informações iniciais de cada variável"
   ]
  },
  {
   "cell_type": "code",
   "execution_count": 5,
   "metadata": {},
   "outputs": [
    {
     "name": "stdout",
     "output_type": "stream",
     "text": [
      "<class 'pandas.core.frame.DataFrame'>\n",
      "RangeIndex: 284807 entries, 0 to 284806\n",
      "Data columns (total 31 columns):\n",
      " #   Column  Non-Null Count   Dtype  \n",
      "---  ------  --------------   -----  \n",
      " 0   Time    284807 non-null  float64\n",
      " 1   V1      284807 non-null  float64\n",
      " 2   V2      284807 non-null  float64\n",
      " 3   V3      284807 non-null  float64\n",
      " 4   V4      284807 non-null  float64\n",
      " 5   V5      284807 non-null  float64\n",
      " 6   V6      284807 non-null  float64\n",
      " 7   V7      284807 non-null  float64\n",
      " 8   V8      284807 non-null  float64\n",
      " 9   V9      284807 non-null  float64\n",
      " 10  V10     284807 non-null  float64\n",
      " 11  V11     284807 non-null  float64\n",
      " 12  V12     284807 non-null  float64\n",
      " 13  V13     284807 non-null  float64\n",
      " 14  V14     284807 non-null  float64\n",
      " 15  V15     284807 non-null  float64\n",
      " 16  V16     284807 non-null  float64\n",
      " 17  V17     284807 non-null  float64\n",
      " 18  V18     284807 non-null  float64\n",
      " 19  V19     284807 non-null  float64\n",
      " 20  V20     284807 non-null  float64\n",
      " 21  V21     284807 non-null  float64\n",
      " 22  V22     284807 non-null  float64\n",
      " 23  V23     284807 non-null  float64\n",
      " 24  V24     284807 non-null  float64\n",
      " 25  V25     284807 non-null  float64\n",
      " 26  V26     284807 non-null  float64\n",
      " 27  V27     284807 non-null  float64\n",
      " 28  V28     284807 non-null  float64\n",
      " 29  Amount  284807 non-null  float64\n",
      " 30  Class   284807 non-null  int64  \n",
      "dtypes: float64(30), int64(1)\n",
      "memory usage: 67.4 MB\n"
     ]
    }
   ],
   "source": [
    "dados.info()"
   ]
  },
  {
   "cell_type": "markdown",
   "metadata": {},
   "source": [
    "Vemos das informações iniciais que parece não existir dados faltantes na amostra e que todas as variaveis numérica foram devidamente reconhecidas como float"
   ]
  },
  {
   "cell_type": "markdown",
   "metadata": {},
   "source": [
    "Exibindo estatísticas iniciais de cada variável"
   ]
  },
  {
   "cell_type": "code",
   "execution_count": 6,
   "metadata": {},
   "outputs": [
    {
     "data": {
      "text/html": [
       "<div>\n",
       "<style scoped>\n",
       "    .dataframe tbody tr th:only-of-type {\n",
       "        vertical-align: middle;\n",
       "    }\n",
       "\n",
       "    .dataframe tbody tr th {\n",
       "        vertical-align: top;\n",
       "    }\n",
       "\n",
       "    .dataframe thead th {\n",
       "        text-align: right;\n",
       "    }\n",
       "</style>\n",
       "<table border=\"1\" class=\"dataframe\">\n",
       "  <thead>\n",
       "    <tr style=\"text-align: right;\">\n",
       "      <th></th>\n",
       "      <th>Time</th>\n",
       "      <th>V1</th>\n",
       "      <th>V2</th>\n",
       "      <th>V3</th>\n",
       "      <th>V4</th>\n",
       "      <th>V5</th>\n",
       "      <th>V6</th>\n",
       "      <th>V7</th>\n",
       "      <th>V8</th>\n",
       "      <th>V9</th>\n",
       "      <th>...</th>\n",
       "      <th>V21</th>\n",
       "      <th>V22</th>\n",
       "      <th>V23</th>\n",
       "      <th>V24</th>\n",
       "      <th>V25</th>\n",
       "      <th>V26</th>\n",
       "      <th>V27</th>\n",
       "      <th>V28</th>\n",
       "      <th>Amount</th>\n",
       "      <th>Class</th>\n",
       "    </tr>\n",
       "  </thead>\n",
       "  <tbody>\n",
       "    <tr>\n",
       "      <th>count</th>\n",
       "      <td>284807.000000</td>\n",
       "      <td>2.848070e+05</td>\n",
       "      <td>2.848070e+05</td>\n",
       "      <td>2.848070e+05</td>\n",
       "      <td>2.848070e+05</td>\n",
       "      <td>2.848070e+05</td>\n",
       "      <td>2.848070e+05</td>\n",
       "      <td>2.848070e+05</td>\n",
       "      <td>2.848070e+05</td>\n",
       "      <td>2.848070e+05</td>\n",
       "      <td>...</td>\n",
       "      <td>2.848070e+05</td>\n",
       "      <td>2.848070e+05</td>\n",
       "      <td>2.848070e+05</td>\n",
       "      <td>2.848070e+05</td>\n",
       "      <td>2.848070e+05</td>\n",
       "      <td>2.848070e+05</td>\n",
       "      <td>2.848070e+05</td>\n",
       "      <td>2.848070e+05</td>\n",
       "      <td>284807.000000</td>\n",
       "      <td>284807.000000</td>\n",
       "    </tr>\n",
       "    <tr>\n",
       "      <th>mean</th>\n",
       "      <td>94813.859575</td>\n",
       "      <td>3.919560e-15</td>\n",
       "      <td>5.688174e-16</td>\n",
       "      <td>-8.769071e-15</td>\n",
       "      <td>2.782312e-15</td>\n",
       "      <td>-1.552563e-15</td>\n",
       "      <td>2.010663e-15</td>\n",
       "      <td>-1.694249e-15</td>\n",
       "      <td>-1.927028e-16</td>\n",
       "      <td>-3.137024e-15</td>\n",
       "      <td>...</td>\n",
       "      <td>1.537294e-16</td>\n",
       "      <td>7.959909e-16</td>\n",
       "      <td>5.367590e-16</td>\n",
       "      <td>4.458112e-15</td>\n",
       "      <td>1.453003e-15</td>\n",
       "      <td>1.699104e-15</td>\n",
       "      <td>-3.660161e-16</td>\n",
       "      <td>-1.206049e-16</td>\n",
       "      <td>88.349619</td>\n",
       "      <td>0.001727</td>\n",
       "    </tr>\n",
       "    <tr>\n",
       "      <th>std</th>\n",
       "      <td>47488.145955</td>\n",
       "      <td>1.958696e+00</td>\n",
       "      <td>1.651309e+00</td>\n",
       "      <td>1.516255e+00</td>\n",
       "      <td>1.415869e+00</td>\n",
       "      <td>1.380247e+00</td>\n",
       "      <td>1.332271e+00</td>\n",
       "      <td>1.237094e+00</td>\n",
       "      <td>1.194353e+00</td>\n",
       "      <td>1.098632e+00</td>\n",
       "      <td>...</td>\n",
       "      <td>7.345240e-01</td>\n",
       "      <td>7.257016e-01</td>\n",
       "      <td>6.244603e-01</td>\n",
       "      <td>6.056471e-01</td>\n",
       "      <td>5.212781e-01</td>\n",
       "      <td>4.822270e-01</td>\n",
       "      <td>4.036325e-01</td>\n",
       "      <td>3.300833e-01</td>\n",
       "      <td>250.120109</td>\n",
       "      <td>0.041527</td>\n",
       "    </tr>\n",
       "    <tr>\n",
       "      <th>min</th>\n",
       "      <td>0.000000</td>\n",
       "      <td>-5.640751e+01</td>\n",
       "      <td>-7.271573e+01</td>\n",
       "      <td>-4.832559e+01</td>\n",
       "      <td>-5.683171e+00</td>\n",
       "      <td>-1.137433e+02</td>\n",
       "      <td>-2.616051e+01</td>\n",
       "      <td>-4.355724e+01</td>\n",
       "      <td>-7.321672e+01</td>\n",
       "      <td>-1.343407e+01</td>\n",
       "      <td>...</td>\n",
       "      <td>-3.483038e+01</td>\n",
       "      <td>-1.093314e+01</td>\n",
       "      <td>-4.480774e+01</td>\n",
       "      <td>-2.836627e+00</td>\n",
       "      <td>-1.029540e+01</td>\n",
       "      <td>-2.604551e+00</td>\n",
       "      <td>-2.256568e+01</td>\n",
       "      <td>-1.543008e+01</td>\n",
       "      <td>0.000000</td>\n",
       "      <td>0.000000</td>\n",
       "    </tr>\n",
       "    <tr>\n",
       "      <th>25%</th>\n",
       "      <td>54201.500000</td>\n",
       "      <td>-9.203734e-01</td>\n",
       "      <td>-5.985499e-01</td>\n",
       "      <td>-8.903648e-01</td>\n",
       "      <td>-8.486401e-01</td>\n",
       "      <td>-6.915971e-01</td>\n",
       "      <td>-7.682956e-01</td>\n",
       "      <td>-5.540759e-01</td>\n",
       "      <td>-2.086297e-01</td>\n",
       "      <td>-6.430976e-01</td>\n",
       "      <td>...</td>\n",
       "      <td>-2.283949e-01</td>\n",
       "      <td>-5.423504e-01</td>\n",
       "      <td>-1.618463e-01</td>\n",
       "      <td>-3.545861e-01</td>\n",
       "      <td>-3.171451e-01</td>\n",
       "      <td>-3.269839e-01</td>\n",
       "      <td>-7.083953e-02</td>\n",
       "      <td>-5.295979e-02</td>\n",
       "      <td>5.600000</td>\n",
       "      <td>0.000000</td>\n",
       "    </tr>\n",
       "    <tr>\n",
       "      <th>50%</th>\n",
       "      <td>84692.000000</td>\n",
       "      <td>1.810880e-02</td>\n",
       "      <td>6.548556e-02</td>\n",
       "      <td>1.798463e-01</td>\n",
       "      <td>-1.984653e-02</td>\n",
       "      <td>-5.433583e-02</td>\n",
       "      <td>-2.741871e-01</td>\n",
       "      <td>4.010308e-02</td>\n",
       "      <td>2.235804e-02</td>\n",
       "      <td>-5.142873e-02</td>\n",
       "      <td>...</td>\n",
       "      <td>-2.945017e-02</td>\n",
       "      <td>6.781943e-03</td>\n",
       "      <td>-1.119293e-02</td>\n",
       "      <td>4.097606e-02</td>\n",
       "      <td>1.659350e-02</td>\n",
       "      <td>-5.213911e-02</td>\n",
       "      <td>1.342146e-03</td>\n",
       "      <td>1.124383e-02</td>\n",
       "      <td>22.000000</td>\n",
       "      <td>0.000000</td>\n",
       "    </tr>\n",
       "    <tr>\n",
       "      <th>75%</th>\n",
       "      <td>139320.500000</td>\n",
       "      <td>1.315642e+00</td>\n",
       "      <td>8.037239e-01</td>\n",
       "      <td>1.027196e+00</td>\n",
       "      <td>7.433413e-01</td>\n",
       "      <td>6.119264e-01</td>\n",
       "      <td>3.985649e-01</td>\n",
       "      <td>5.704361e-01</td>\n",
       "      <td>3.273459e-01</td>\n",
       "      <td>5.971390e-01</td>\n",
       "      <td>...</td>\n",
       "      <td>1.863772e-01</td>\n",
       "      <td>5.285536e-01</td>\n",
       "      <td>1.476421e-01</td>\n",
       "      <td>4.395266e-01</td>\n",
       "      <td>3.507156e-01</td>\n",
       "      <td>2.409522e-01</td>\n",
       "      <td>9.104512e-02</td>\n",
       "      <td>7.827995e-02</td>\n",
       "      <td>77.165000</td>\n",
       "      <td>0.000000</td>\n",
       "    </tr>\n",
       "    <tr>\n",
       "      <th>max</th>\n",
       "      <td>172792.000000</td>\n",
       "      <td>2.454930e+00</td>\n",
       "      <td>2.205773e+01</td>\n",
       "      <td>9.382558e+00</td>\n",
       "      <td>1.687534e+01</td>\n",
       "      <td>3.480167e+01</td>\n",
       "      <td>7.330163e+01</td>\n",
       "      <td>1.205895e+02</td>\n",
       "      <td>2.000721e+01</td>\n",
       "      <td>1.559499e+01</td>\n",
       "      <td>...</td>\n",
       "      <td>2.720284e+01</td>\n",
       "      <td>1.050309e+01</td>\n",
       "      <td>2.252841e+01</td>\n",
       "      <td>4.584549e+00</td>\n",
       "      <td>7.519589e+00</td>\n",
       "      <td>3.517346e+00</td>\n",
       "      <td>3.161220e+01</td>\n",
       "      <td>3.384781e+01</td>\n",
       "      <td>25691.160000</td>\n",
       "      <td>1.000000</td>\n",
       "    </tr>\n",
       "  </tbody>\n",
       "</table>\n",
       "<p>8 rows × 31 columns</p>\n",
       "</div>"
      ],
      "text/plain": [
       "                Time            V1            V2            V3            V4  \\\n",
       "count  284807.000000  2.848070e+05  2.848070e+05  2.848070e+05  2.848070e+05   \n",
       "mean    94813.859575  3.919560e-15  5.688174e-16 -8.769071e-15  2.782312e-15   \n",
       "std     47488.145955  1.958696e+00  1.651309e+00  1.516255e+00  1.415869e+00   \n",
       "min         0.000000 -5.640751e+01 -7.271573e+01 -4.832559e+01 -5.683171e+00   \n",
       "25%     54201.500000 -9.203734e-01 -5.985499e-01 -8.903648e-01 -8.486401e-01   \n",
       "50%     84692.000000  1.810880e-02  6.548556e-02  1.798463e-01 -1.984653e-02   \n",
       "75%    139320.500000  1.315642e+00  8.037239e-01  1.027196e+00  7.433413e-01   \n",
       "max    172792.000000  2.454930e+00  2.205773e+01  9.382558e+00  1.687534e+01   \n",
       "\n",
       "                 V5            V6            V7            V8            V9  \\\n",
       "count  2.848070e+05  2.848070e+05  2.848070e+05  2.848070e+05  2.848070e+05   \n",
       "mean  -1.552563e-15  2.010663e-15 -1.694249e-15 -1.927028e-16 -3.137024e-15   \n",
       "std    1.380247e+00  1.332271e+00  1.237094e+00  1.194353e+00  1.098632e+00   \n",
       "min   -1.137433e+02 -2.616051e+01 -4.355724e+01 -7.321672e+01 -1.343407e+01   \n",
       "25%   -6.915971e-01 -7.682956e-01 -5.540759e-01 -2.086297e-01 -6.430976e-01   \n",
       "50%   -5.433583e-02 -2.741871e-01  4.010308e-02  2.235804e-02 -5.142873e-02   \n",
       "75%    6.119264e-01  3.985649e-01  5.704361e-01  3.273459e-01  5.971390e-01   \n",
       "max    3.480167e+01  7.330163e+01  1.205895e+02  2.000721e+01  1.559499e+01   \n",
       "\n",
       "       ...           V21           V22           V23           V24  \\\n",
       "count  ...  2.848070e+05  2.848070e+05  2.848070e+05  2.848070e+05   \n",
       "mean   ...  1.537294e-16  7.959909e-16  5.367590e-16  4.458112e-15   \n",
       "std    ...  7.345240e-01  7.257016e-01  6.244603e-01  6.056471e-01   \n",
       "min    ... -3.483038e+01 -1.093314e+01 -4.480774e+01 -2.836627e+00   \n",
       "25%    ... -2.283949e-01 -5.423504e-01 -1.618463e-01 -3.545861e-01   \n",
       "50%    ... -2.945017e-02  6.781943e-03 -1.119293e-02  4.097606e-02   \n",
       "75%    ...  1.863772e-01  5.285536e-01  1.476421e-01  4.395266e-01   \n",
       "max    ...  2.720284e+01  1.050309e+01  2.252841e+01  4.584549e+00   \n",
       "\n",
       "                V25           V26           V27           V28         Amount  \\\n",
       "count  2.848070e+05  2.848070e+05  2.848070e+05  2.848070e+05  284807.000000   \n",
       "mean   1.453003e-15  1.699104e-15 -3.660161e-16 -1.206049e-16      88.349619   \n",
       "std    5.212781e-01  4.822270e-01  4.036325e-01  3.300833e-01     250.120109   \n",
       "min   -1.029540e+01 -2.604551e+00 -2.256568e+01 -1.543008e+01       0.000000   \n",
       "25%   -3.171451e-01 -3.269839e-01 -7.083953e-02 -5.295979e-02       5.600000   \n",
       "50%    1.659350e-02 -5.213911e-02  1.342146e-03  1.124383e-02      22.000000   \n",
       "75%    3.507156e-01  2.409522e-01  9.104512e-02  7.827995e-02      77.165000   \n",
       "max    7.519589e+00  3.517346e+00  3.161220e+01  3.384781e+01   25691.160000   \n",
       "\n",
       "               Class  \n",
       "count  284807.000000  \n",
       "mean        0.001727  \n",
       "std         0.041527  \n",
       "min         0.000000  \n",
       "25%         0.000000  \n",
       "50%         0.000000  \n",
       "75%         0.000000  \n",
       "max         1.000000  \n",
       "\n",
       "[8 rows x 31 columns]"
      ]
     },
     "execution_count": 6,
     "metadata": {},
     "output_type": "execute_result"
    }
   ],
   "source": [
    "dados.describe()"
   ]
  },
  {
   "cell_type": "markdown",
   "metadata": {},
   "source": [
    "Observamos que existem quase 285 mil transações e que o valor médio é de 88 dolares"
   ]
  },
  {
   "cell_type": "markdown",
   "metadata": {},
   "source": [
    "Verificando existência de elementos nulos e NaNs"
   ]
  },
  {
   "cell_type": "code",
   "execution_count": 9,
   "metadata": {},
   "outputs": [
    {
     "data": {
      "text/plain": [
       "0"
      ]
     },
     "execution_count": 9,
     "metadata": {},
     "output_type": "execute_result"
    }
   ],
   "source": [
    "dados.isna().sum().max()"
   ]
  },
  {
   "cell_type": "code",
   "execution_count": 10,
   "metadata": {},
   "outputs": [
    {
     "data": {
      "text/plain": [
       "0"
      ]
     },
     "execution_count": 10,
     "metadata": {},
     "output_type": "execute_result"
    }
   ],
   "source": [
    "dados.isnull().sum().max()"
   ]
  },
  {
   "cell_type": "markdown",
   "metadata": {},
   "source": [
    "Observamos que não existem elementos nulos e do tipo NaN. Não será necessário substituir este tipo de valores pela mediana por exemplo"
   ]
  },
  {
   "cell_type": "markdown",
   "metadata": {},
   "source": [
    "Determinando a quantidade de transações sem fraude e sem fraude no dado"
   ]
  },
  {
   "cell_type": "code",
   "execution_count": 12,
   "metadata": {},
   "outputs": [
    {
     "name": "stdout",
     "output_type": "stream",
     "text": [
      "Transacoes sem fraude 284315\n",
      "Transacoes com fraude 492\n"
     ]
    }
   ],
   "source": [
    "print('Transacoes sem fraude', dados['Class'].value_counts()[0])\n",
    "print('Transacoes com fraude', dados['Class'].value_counts()[1])"
   ]
  },
  {
   "cell_type": "code",
   "execution_count": 11,
   "metadata": {},
   "outputs": [
    {
     "name": "stdout",
     "output_type": "stream",
     "text": [
      "Transacoes sem fraude 99.83 % da amostra\n",
      "Transacoes com fraude 0.17 % da amostra\n"
     ]
    }
   ],
   "source": [
    "print('Transacoes sem fraude', round(dados['Class'].value_counts()[0]/len(dados) * 100,2), '% da amostra')\n",
    "print('Transacoes com fraude', round(dados['Class'].value_counts()[1]/len(dados) * 100,2), '% da amostra')"
   ]
  },
  {
   "cell_type": "markdown",
   "metadata": {},
   "source": [
    "De todas as transações registradas, apenas 492 foram classificadas como fraude, o que corresponde a apenas 0.17% da amostra. Isto nos mostra que temos um dado extremamente desbalanceado"
   ]
  },
  {
   "cell_type": "markdown",
   "metadata": {},
   "source": [
    "Função para converter a variável binária classe para string"
   ]
  },
  {
   "cell_type": "code",
   "execution_count": 13,
   "metadata": {},
   "outputs": [],
   "source": [
    "def fraude(dado):\n",
    "    if(dado == 0):\n",
    "        return \"Normal\"\n",
    "    else:\n",
    "        return \"Fraude\""
   ]
  },
  {
   "cell_type": "markdown",
   "metadata": {},
   "source": [
    "Gráfico com a contagem de cada classe"
   ]
  },
  {
   "cell_type": "code",
   "execution_count": 14,
   "metadata": {},
   "outputs": [
    {
     "data": {
      "image/png": "[encoded data removed]",
      "text/plain": [
       "<Figure size 432x288 with 1 Axes>"
      ]
     },
     "metadata": {
      "needs_background": "light"
     },
     "output_type": "display_data"
    }
   ],
   "source": [
    "dados_tmp = dados.copy()\n",
    "dados_tmp['Class'] = dados_tmp['Class'].apply(fraude)\n",
    "sns.countplot(data=dados_tmp,x='Class')\n",
    "plt.xlabel('Classe')\n",
    "plt.ylabel('Contagem')\n",
    "del dados_tmp"
   ]
  },
  {
   "cell_type": "markdown",
   "metadata": {},
   "source": [
    "Verificando a distribuição dos valores e do tempo de cada transação para as situações normais e com fraude"
   ]
  },
  {
   "cell_type": "code",
   "execution_count": 15,
   "metadata": {},
   "outputs": [
    {
     "data": {
      "image/png": "[encoded data removed]",
      "text/plain": [
       "<Figure size 720x432 with 3 Axes>"
      ]
     },
     "metadata": {
      "needs_background": "light"
     },
     "output_type": "display_data"
    }
   ],
   "source": [
    "fig, ax = plt.subplots(3, 1, figsize=(10,6))\n",
    "sns.distplot(dados['Amount'], ax=ax[0], color='r')\n",
    "ax[0].set_title('Distribuição do valor da transações considerando ambas as classes', fontsize=14)\n",
    "ax[0].set_xlim([min(dados['Amount']), max(dados['Amount'])])\n",
    "ax[0].set_xlabel('Valor')\n",
    "\n",
    "sns.distplot(dados[dados['Class']==0]['Amount'], ax=ax[1], color='r')\n",
    "ax[1].set_title('Distribuição do valor da transações considerando transações sem fraude', fontsize=14)\n",
    "ax[1].set_xlim([min(dados['Amount']), max(dados['Amount'])])\n",
    "ax[1].set_xlabel('Valor')\n",
    "\n",
    "sns.distplot(dados[dados['Class']==1]['Amount'], ax=ax[2], color='r')\n",
    "ax[2].set_title('Distribuição do valor da transações considerando transações com fraude', fontsize=14)\n",
    "ax[2].set_xlim([min(dados['Amount']), max(dados['Amount'])])\n",
    "ax[2].set_xlabel('Valor')\n",
    "\n",
    "plt.tight_layout()"
   ]
  },
  {
   "cell_type": "markdown",
   "metadata": {},
   "source": [
    "Observamos que a grande parte das transações são de baixo valor e as com fraude tiveram valores inferiores a 4000. "
   ]
  },
  {
   "cell_type": "code",
   "execution_count": 17,
   "metadata": {},
   "outputs": [
    {
     "data": {
      "image/png": "[encoded data removed]",
      "text/plain": [
       "<Figure size 720x432 with 3 Axes>"
      ]
     },
     "metadata": {
      "needs_background": "light"
     },
     "output_type": "display_data"
    }
   ],
   "source": [
    "fig, ax = plt.subplots(3, 1, figsize=(10,6))\n",
    "sns.distplot(dados['Time'], ax=ax[0])\n",
    "ax[0].set_title('Distribuição do tempo da transações considerando ambas as classes', fontsize=14)\n",
    "ax[0].set_xlim([min(dados['Time']), max(dados['Time'])])\n",
    "ax[0].set_xlabel('Tempo')\n",
    "\n",
    "sns.distplot(dados[dados['Class']==0]['Time'], ax=ax[1])\n",
    "ax[1].set_title('Distribuição do tempo da transações considerando transações sem fraude', fontsize=14)\n",
    "ax[1].set_xlim([min(dados['Time']), max(dados['Time'])])\n",
    "ax[1].set_xlabel('Tempo')\n",
    "\n",
    "sns.distplot(dados[dados['Class']==1]['Time'], ax=ax[2])\n",
    "ax[2].set_title('Distribuição do tempo da transações considerando transações com fraude', fontsize=14)\n",
    "ax[2].set_xlim([min(dados['Time']), max(dados['Time'])])\n",
    "ax[2].set_xlabel('Tempo')\n",
    "\n",
    "plt.tight_layout()"
   ]
  },
  {
   "cell_type": "markdown",
   "metadata": {},
   "source": [
    "Observamos que as transações regulares apresentam uma distruição não simétrica com dois picos com médias aproximada de 5000 e 140000. Já as transações com fraude tem uma distribuição mais regular de tempo"
   ]
  },
  {
   "cell_type": "markdown",
   "metadata": {},
   "source": [
    "As variáveis Amount e Time não estão normalizadas e apresentam uma grande variabilidade. Desta forma iremos normalizar ambas e vamos usar o RobustScaler que é menos suscetível a outliers"
   ]
  },
  {
   "cell_type": "code",
   "execution_count": 18,
   "metadata": {},
   "outputs": [],
   "source": [
    "from sklearn.preprocessing import StandardScaler, RobustScaler"
   ]
  },
  {
   "cell_type": "code",
   "execution_count": 19,
   "metadata": {},
   "outputs": [],
   "source": [
    "robust_scaler = RobustScaler()"
   ]
  },
  {
   "cell_type": "code",
   "execution_count": 20,
   "metadata": {},
   "outputs": [],
   "source": [
    "dados['Amount'] = robust_scaler.fit_transform(dados['Amount'].values.reshape(-1,1))\n",
    "dados['Time'] = robust_scaler.fit_transform(dados['Time'].values.reshape(-1,1))"
   ]
  },
  {
   "cell_type": "code",
   "execution_count": 21,
   "metadata": {},
   "outputs": [
    {
     "data": {
      "text/html": [
       "<div>\n",
       "<style scoped>\n",
       "    .dataframe tbody tr th:only-of-type {\n",
       "        vertical-align: middle;\n",
       "    }\n",
       "\n",
       "    .dataframe tbody tr th {\n",
       "        vertical-align: top;\n",
       "    }\n",
       "\n",
       "    .dataframe thead th {\n",
       "        text-align: right;\n",
       "    }\n",
       "</style>\n",
       "<table border=\"1\" class=\"dataframe\">\n",
       "  <thead>\n",
       "    <tr style=\"text-align: right;\">\n",
       "      <th></th>\n",
       "      <th>Time</th>\n",
       "      <th>V1</th>\n",
       "      <th>V2</th>\n",
       "      <th>V3</th>\n",
       "      <th>V4</th>\n",
       "      <th>V5</th>\n",
       "      <th>V6</th>\n",
       "      <th>V7</th>\n",
       "      <th>V8</th>\n",
       "      <th>V9</th>\n",
       "      <th>...</th>\n",
       "      <th>V21</th>\n",
       "      <th>V22</th>\n",
       "      <th>V23</th>\n",
       "      <th>V24</th>\n",
       "      <th>V25</th>\n",
       "      <th>V26</th>\n",
       "      <th>V27</th>\n",
       "      <th>V28</th>\n",
       "      <th>Amount</th>\n",
       "      <th>Class</th>\n",
       "    </tr>\n",
       "  </thead>\n",
       "  <tbody>\n",
       "    <tr>\n",
       "      <th>0</th>\n",
       "      <td>-0.994983</td>\n",
       "      <td>-1.359807</td>\n",
       "      <td>-0.072781</td>\n",
       "      <td>2.536347</td>\n",
       "      <td>1.378155</td>\n",
       "      <td>-0.338321</td>\n",
       "      <td>0.462388</td>\n",
       "      <td>0.239599</td>\n",
       "      <td>0.098698</td>\n",
       "      <td>0.363787</td>\n",
       "      <td>...</td>\n",
       "      <td>-0.018307</td>\n",
       "      <td>0.277838</td>\n",
       "      <td>-0.110474</td>\n",
       "      <td>0.066928</td>\n",
       "      <td>0.128539</td>\n",
       "      <td>-0.189115</td>\n",
       "      <td>0.133558</td>\n",
       "      <td>-0.021053</td>\n",
       "      <td>1.783274</td>\n",
       "      <td>0</td>\n",
       "    </tr>\n",
       "    <tr>\n",
       "      <th>1</th>\n",
       "      <td>-0.994983</td>\n",
       "      <td>1.191857</td>\n",
       "      <td>0.266151</td>\n",
       "      <td>0.166480</td>\n",
       "      <td>0.448154</td>\n",
       "      <td>0.060018</td>\n",
       "      <td>-0.082361</td>\n",
       "      <td>-0.078803</td>\n",
       "      <td>0.085102</td>\n",
       "      <td>-0.255425</td>\n",
       "      <td>...</td>\n",
       "      <td>-0.225775</td>\n",
       "      <td>-0.638672</td>\n",
       "      <td>0.101288</td>\n",
       "      <td>-0.339846</td>\n",
       "      <td>0.167170</td>\n",
       "      <td>0.125895</td>\n",
       "      <td>-0.008983</td>\n",
       "      <td>0.014724</td>\n",
       "      <td>-0.269825</td>\n",
       "      <td>0</td>\n",
       "    </tr>\n",
       "    <tr>\n",
       "      <th>2</th>\n",
       "      <td>-0.994972</td>\n",
       "      <td>-1.358354</td>\n",
       "      <td>-1.340163</td>\n",
       "      <td>1.773209</td>\n",
       "      <td>0.379780</td>\n",
       "      <td>-0.503198</td>\n",
       "      <td>1.800499</td>\n",
       "      <td>0.791461</td>\n",
       "      <td>0.247676</td>\n",
       "      <td>-1.514654</td>\n",
       "      <td>...</td>\n",
       "      <td>0.247998</td>\n",
       "      <td>0.771679</td>\n",
       "      <td>0.909412</td>\n",
       "      <td>-0.689281</td>\n",
       "      <td>-0.327642</td>\n",
       "      <td>-0.139097</td>\n",
       "      <td>-0.055353</td>\n",
       "      <td>-0.059752</td>\n",
       "      <td>4.983721</td>\n",
       "      <td>0</td>\n",
       "    </tr>\n",
       "    <tr>\n",
       "      <th>3</th>\n",
       "      <td>-0.994972</td>\n",
       "      <td>-0.966272</td>\n",
       "      <td>-0.185226</td>\n",
       "      <td>1.792993</td>\n",
       "      <td>-0.863291</td>\n",
       "      <td>-0.010309</td>\n",
       "      <td>1.247203</td>\n",
       "      <td>0.237609</td>\n",
       "      <td>0.377436</td>\n",
       "      <td>-1.387024</td>\n",
       "      <td>...</td>\n",
       "      <td>-0.108300</td>\n",
       "      <td>0.005274</td>\n",
       "      <td>-0.190321</td>\n",
       "      <td>-1.175575</td>\n",
       "      <td>0.647376</td>\n",
       "      <td>-0.221929</td>\n",
       "      <td>0.062723</td>\n",
       "      <td>0.061458</td>\n",
       "      <td>1.418291</td>\n",
       "      <td>0</td>\n",
       "    </tr>\n",
       "    <tr>\n",
       "      <th>4</th>\n",
       "      <td>-0.994960</td>\n",
       "      <td>-1.158233</td>\n",
       "      <td>0.877737</td>\n",
       "      <td>1.548718</td>\n",
       "      <td>0.403034</td>\n",
       "      <td>-0.407193</td>\n",
       "      <td>0.095921</td>\n",
       "      <td>0.592941</td>\n",
       "      <td>-0.270533</td>\n",
       "      <td>0.817739</td>\n",
       "      <td>...</td>\n",
       "      <td>-0.009431</td>\n",
       "      <td>0.798278</td>\n",
       "      <td>-0.137458</td>\n",
       "      <td>0.141267</td>\n",
       "      <td>-0.206010</td>\n",
       "      <td>0.502292</td>\n",
       "      <td>0.219422</td>\n",
       "      <td>0.215153</td>\n",
       "      <td>0.670579</td>\n",
       "      <td>0</td>\n",
       "    </tr>\n",
       "  </tbody>\n",
       "</table>\n",
       "<p>5 rows × 31 columns</p>\n",
       "</div>"
      ],
      "text/plain": [
       "       Time        V1        V2        V3        V4        V5        V6  \\\n",
       "0 -0.994983 -1.359807 -0.072781  2.536347  1.378155 -0.338321  0.462388   \n",
       "1 -0.994983  1.191857  0.266151  0.166480  0.448154  0.060018 -0.082361   \n",
       "2 -0.994972 -1.358354 -1.340163  1.773209  0.379780 -0.503198  1.800499   \n",
       "3 -0.994972 -0.966272 -0.185226  1.792993 -0.863291 -0.010309  1.247203   \n",
       "4 -0.994960 -1.158233  0.877737  1.548718  0.403034 -0.407193  0.095921   \n",
       "\n",
       "         V7        V8        V9  ...       V21       V22       V23       V24  \\\n",
       "0  0.239599  0.098698  0.363787  ... -0.018307  0.277838 -0.110474  0.066928   \n",
       "1 -0.078803  0.085102 -0.255425  ... -0.225775 -0.638672  0.101288 -0.339846   \n",
       "2  0.791461  0.247676 -1.514654  ...  0.247998  0.771679  0.909412 -0.689281   \n",
       "3  0.237609  0.377436 -1.387024  ... -0.108300  0.005274 -0.190321 -1.175575   \n",
       "4  0.592941 -0.270533  0.817739  ... -0.009431  0.798278 -0.137458  0.141267   \n",
       "\n",
       "        V25       V26       V27       V28    Amount  Class  \n",
       "0  0.128539 -0.189115  0.133558 -0.021053  1.783274      0  \n",
       "1  0.167170  0.125895 -0.008983  0.014724 -0.269825      0  \n",
       "2 -0.327642 -0.139097 -0.055353 -0.059752  4.983721      0  \n",
       "3  0.647376 -0.221929  0.062723  0.061458  1.418291      0  \n",
       "4 -0.206010  0.502292  0.219422  0.215153  0.670579      0  \n",
       "\n",
       "[5 rows x 31 columns]"
      ]
     },
     "execution_count": 21,
     "metadata": {},
     "output_type": "execute_result"
    }
   ],
   "source": [
    "dados.head()"
   ]
  },
  {
   "cell_type": "markdown",
   "metadata": {},
   "source": [
    "Separando a amostra em variáveis de treino e teste. Neste caso usaremos a amostra toda para testar no final com o modelo utilizando apenas parte balanceada da amostra"
   ]
  },
  {
   "cell_type": "code",
   "execution_count": 22,
   "metadata": {},
   "outputs": [],
   "source": [
    "from sklearn.model_selection import KFold, StratifiedKFold"
   ]
  },
  {
   "cell_type": "code",
   "execution_count": 23,
   "metadata": {},
   "outputs": [],
   "source": [
    "X = dados.drop(['Class'],axis=1)\n",
    "Y = dados['Class']"
   ]
  },
  {
   "cell_type": "code",
   "execution_count": 24,
   "metadata": {},
   "outputs": [],
   "source": [
    "strat_kfold = StratifiedKFold(n_splits=5, random_state=None, shuffle=False)"
   ]
  },
  {
   "cell_type": "code",
   "execution_count": 25,
   "metadata": {},
   "outputs": [
    {
     "name": "stdout",
     "output_type": "stream",
     "text": [
      "Treino: [ 30473  30496  31002 ... 284804 284805 284806] Teste: [    0     1     2 ... 57017 57018 57019]\n",
      "Treino: [     0      1      2 ... 284804 284805 284806] Teste: [ 30473  30496  31002 ... 113964 113965 113966]\n",
      "Treino: [     0      1      2 ... 284804 284805 284806] Teste: [ 81609  82400  83053 ... 170946 170947 170948]\n",
      "Treino: [     0      1      2 ... 284804 284805 284806] Teste: [150654 150660 150661 ... 227866 227867 227868]\n",
      "Treino: [     0      1      2 ... 227866 227867 227868] Teste: [212516 212644 213092 ... 284804 284805 284806]\n"
     ]
    }
   ],
   "source": [
    "for indice_treino, indice_teste in strat_kfold.split(X, Y):\n",
    "    print(\"Treino:\", indice_treino, \"Teste:\", indice_teste)\n",
    "    X_treino, X_teste = X.iloc[indice_treino], X.iloc[indice_teste]\n",
    "    Y_treino, Y_teste = Y.iloc[indice_treino], Y.iloc[indice_teste]"
   ]
  },
  {
   "cell_type": "code",
   "execution_count": 26,
   "metadata": {},
   "outputs": [],
   "source": [
    "X_treino = X_treino.values\n",
    "X_teste = X_teste.values\n",
    "Y_treino = Y_treino.values\n",
    "Y_teste = Y_teste.values"
   ]
  },
  {
   "cell_type": "code",
   "execution_count": 27,
   "metadata": {},
   "outputs": [
    {
     "name": "stdout",
     "output_type": "stream",
     "text": [
      "----------------------------------------------------------------------------------------------------\n",
      "Distruição das classes: \n",
      "\n",
      "[0.99827076 0.00172924]\n",
      "[0.99827952 0.00172048]\n"
     ]
    }
   ],
   "source": [
    "label_treino_unico, label_contagem_treino = np.unique(Y_treino, return_counts=True)\n",
    "label_teste_unico, label_contagem_teste = np.unique(Y_teste, return_counts=True)\n",
    "print('-' * 100)\n",
    "\n",
    "print('Distruição das classes: \\n')\n",
    "print(label_contagem_treino/ len(Y_treino))\n",
    "print(label_contagem_teste/ len(Y_teste))"
   ]
  },
  {
   "cell_type": "markdown",
   "metadata": {},
   "source": [
    "Nesta etapa iremos utilizar o processo de subamostragem aleatória, onde dados serão removidos da amostra com a finalidade de gerar um balanceamento evitando assim o chamado overfitting"
   ]
  },
  {
   "cell_type": "markdown",
   "metadata": {},
   "source": [
    "Identificamos que existem 492 transações com fraude. Iremos selecionar aleatoriamente a mesma quantidade de transações sem fraude para balancear a amostra. Em seguida iremos misturar os dados para que os modelos possam capturar os padrões de cada tipo de transação"
   ]
  },
  {
   "cell_type": "code",
   "execution_count": 28,
   "metadata": {},
   "outputs": [],
   "source": [
    "dados = dados.sample(frac=1)"
   ]
  },
  {
   "cell_type": "code",
   "execution_count": 29,
   "metadata": {},
   "outputs": [],
   "source": [
    "tamanho_fraude = len(dados[dados['Class']==1])"
   ]
  },
  {
   "cell_type": "code",
   "execution_count": 30,
   "metadata": {},
   "outputs": [],
   "source": [
    "dados_fraude = dados.loc[dados['Class'] == 1]\n",
    "dados_semfraude = dados.loc[dados['Class'] == 0][:tamanho_fraude]"
   ]
  },
  {
   "cell_type": "code",
   "execution_count": 31,
   "metadata": {},
   "outputs": [],
   "source": [
    "dados_novos = pd.concat([dados_fraude,dados_semfraude])\n",
    "dados_novos = dados_novos.sample(frac=1, random_state=42)"
   ]
  },
  {
   "cell_type": "markdown",
   "metadata": {},
   "source": [
    "Verificando dados iniciais da nova amostra"
   ]
  },
  {
   "cell_type": "code",
   "execution_count": 32,
   "metadata": {},
   "outputs": [
    {
     "data": {
      "text/html": [
       "<div>\n",
       "<style scoped>\n",
       "    .dataframe tbody tr th:only-of-type {\n",
       "        vertical-align: middle;\n",
       "    }\n",
       "\n",
       "    .dataframe tbody tr th {\n",
       "        vertical-align: top;\n",
       "    }\n",
       "\n",
       "    .dataframe thead th {\n",
       "        text-align: right;\n",
       "    }\n",
       "</style>\n",
       "<table border=\"1\" class=\"dataframe\">\n",
       "  <thead>\n",
       "    <tr style=\"text-align: right;\">\n",
       "      <th></th>\n",
       "      <th>Time</th>\n",
       "      <th>V1</th>\n",
       "      <th>V2</th>\n",
       "      <th>V3</th>\n",
       "      <th>V4</th>\n",
       "      <th>V5</th>\n",
       "      <th>V6</th>\n",
       "      <th>V7</th>\n",
       "      <th>V8</th>\n",
       "      <th>V9</th>\n",
       "      <th>...</th>\n",
       "      <th>V21</th>\n",
       "      <th>V22</th>\n",
       "      <th>V23</th>\n",
       "      <th>V24</th>\n",
       "      <th>V25</th>\n",
       "      <th>V26</th>\n",
       "      <th>V27</th>\n",
       "      <th>V28</th>\n",
       "      <th>Amount</th>\n",
       "      <th>Class</th>\n",
       "    </tr>\n",
       "  </thead>\n",
       "  <tbody>\n",
       "    <tr>\n",
       "      <th>49505</th>\n",
       "      <td>-0.477003</td>\n",
       "      <td>-0.519455</td>\n",
       "      <td>0.714224</td>\n",
       "      <td>1.825262</td>\n",
       "      <td>2.179596</td>\n",
       "      <td>-0.353989</td>\n",
       "      <td>0.065773</td>\n",
       "      <td>0.872736</td>\n",
       "      <td>0.123405</td>\n",
       "      <td>-0.668567</td>\n",
       "      <td>...</td>\n",
       "      <td>-0.168649</td>\n",
       "      <td>-0.683123</td>\n",
       "      <td>0.218256</td>\n",
       "      <td>0.302188</td>\n",
       "      <td>-0.062579</td>\n",
       "      <td>-0.218855</td>\n",
       "      <td>-0.013266</td>\n",
       "      <td>0.037355</td>\n",
       "      <td>1.301334</td>\n",
       "      <td>0</td>\n",
       "    </tr>\n",
       "    <tr>\n",
       "      <th>263080</th>\n",
       "      <td>0.894031</td>\n",
       "      <td>2.132386</td>\n",
       "      <td>0.705608</td>\n",
       "      <td>-3.530759</td>\n",
       "      <td>0.514779</td>\n",
       "      <td>1.527175</td>\n",
       "      <td>-1.716268</td>\n",
       "      <td>1.132791</td>\n",
       "      <td>-0.574214</td>\n",
       "      <td>0.128904</td>\n",
       "      <td>...</td>\n",
       "      <td>0.163739</td>\n",
       "      <td>0.703910</td>\n",
       "      <td>-0.245076</td>\n",
       "      <td>0.460049</td>\n",
       "      <td>0.920281</td>\n",
       "      <td>-0.216586</td>\n",
       "      <td>-0.026219</td>\n",
       "      <td>-0.025001</td>\n",
       "      <td>-0.293440</td>\n",
       "      <td>1</td>\n",
       "    </tr>\n",
       "    <tr>\n",
       "      <th>58832</th>\n",
       "      <td>-0.424406</td>\n",
       "      <td>-0.861373</td>\n",
       "      <td>0.772606</td>\n",
       "      <td>1.224435</td>\n",
       "      <td>-1.673920</td>\n",
       "      <td>0.311229</td>\n",
       "      <td>0.148230</td>\n",
       "      <td>0.338499</td>\n",
       "      <td>0.359594</td>\n",
       "      <td>0.130609</td>\n",
       "      <td>...</td>\n",
       "      <td>-0.102619</td>\n",
       "      <td>-0.222311</td>\n",
       "      <td>-0.144030</td>\n",
       "      <td>-0.806968</td>\n",
       "      <td>-0.322518</td>\n",
       "      <td>0.791043</td>\n",
       "      <td>0.373845</td>\n",
       "      <td>0.207521</td>\n",
       "      <td>-0.262279</td>\n",
       "      <td>0</td>\n",
       "    </tr>\n",
       "    <tr>\n",
       "      <th>280149</th>\n",
       "      <td>0.994596</td>\n",
       "      <td>-0.676143</td>\n",
       "      <td>1.126366</td>\n",
       "      <td>-2.213700</td>\n",
       "      <td>0.468308</td>\n",
       "      <td>-1.120541</td>\n",
       "      <td>-0.003346</td>\n",
       "      <td>-2.234739</td>\n",
       "      <td>1.210158</td>\n",
       "      <td>-0.652250</td>\n",
       "      <td>...</td>\n",
       "      <td>0.751826</td>\n",
       "      <td>0.834108</td>\n",
       "      <td>0.190944</td>\n",
       "      <td>0.032070</td>\n",
       "      <td>-0.739695</td>\n",
       "      <td>0.471111</td>\n",
       "      <td>0.385107</td>\n",
       "      <td>0.194361</td>\n",
       "      <td>0.780968</td>\n",
       "      <td>1</td>\n",
       "    </tr>\n",
       "    <tr>\n",
       "      <th>184379</th>\n",
       "      <td>0.487870</td>\n",
       "      <td>-1.141559</td>\n",
       "      <td>1.927650</td>\n",
       "      <td>-3.905356</td>\n",
       "      <td>-0.073943</td>\n",
       "      <td>-0.044858</td>\n",
       "      <td>-1.756999</td>\n",
       "      <td>-1.217416</td>\n",
       "      <td>0.364563</td>\n",
       "      <td>-2.770148</td>\n",
       "      <td>...</td>\n",
       "      <td>0.102081</td>\n",
       "      <td>-0.531496</td>\n",
       "      <td>-0.328741</td>\n",
       "      <td>0.393100</td>\n",
       "      <td>0.568435</td>\n",
       "      <td>0.786605</td>\n",
       "      <td>-0.146102</td>\n",
       "      <td>0.076211</td>\n",
       "      <td>0.041920</td>\n",
       "      <td>1</td>\n",
       "    </tr>\n",
       "  </tbody>\n",
       "</table>\n",
       "<p>5 rows × 31 columns</p>\n",
       "</div>"
      ],
      "text/plain": [
       "            Time        V1        V2        V3        V4        V5        V6  \\\n",
       "49505  -0.477003 -0.519455  0.714224  1.825262  2.179596 -0.353989  0.065773   \n",
       "263080  0.894031  2.132386  0.705608 -3.530759  0.514779  1.527175 -1.716268   \n",
       "58832  -0.424406 -0.861373  0.772606  1.224435 -1.673920  0.311229  0.148230   \n",
       "280149  0.994596 -0.676143  1.126366 -2.213700  0.468308 -1.120541 -0.003346   \n",
       "184379  0.487870 -1.141559  1.927650 -3.905356 -0.073943 -0.044858 -1.756999   \n",
       "\n",
       "              V7        V8        V9  ...       V21       V22       V23  \\\n",
       "49505   0.872736  0.123405 -0.668567  ... -0.168649 -0.683123  0.218256   \n",
       "263080  1.132791 -0.574214  0.128904  ...  0.163739  0.703910 -0.245076   \n",
       "58832   0.338499  0.359594  0.130609  ... -0.102619 -0.222311 -0.144030   \n",
       "280149 -2.234739  1.210158 -0.652250  ...  0.751826  0.834108  0.190944   \n",
       "184379 -1.217416  0.364563 -2.770148  ...  0.102081 -0.531496 -0.328741   \n",
       "\n",
       "             V24       V25       V26       V27       V28    Amount  Class  \n",
       "49505   0.302188 -0.062579 -0.218855 -0.013266  0.037355  1.301334      0  \n",
       "263080  0.460049  0.920281 -0.216586 -0.026219 -0.025001 -0.293440      1  \n",
       "58832  -0.806968 -0.322518  0.791043  0.373845  0.207521 -0.262279      0  \n",
       "280149  0.032070 -0.739695  0.471111  0.385107  0.194361  0.780968      1  \n",
       "184379  0.393100  0.568435  0.786605 -0.146102  0.076211  0.041920      1  \n",
       "\n",
       "[5 rows x 31 columns]"
      ]
     },
     "execution_count": 32,
     "metadata": {},
     "output_type": "execute_result"
    }
   ],
   "source": [
    "dados_novos.head()"
   ]
  },
  {
   "cell_type": "markdown",
   "metadata": {},
   "source": [
    "Fazendo um novo gráfico de contagem para verificar o balanceamento"
   ]
  },
  {
   "cell_type": "code",
   "execution_count": 33,
   "metadata": {},
   "outputs": [
    {
     "data": {
      "image/png": "[encoded data removed]",
      "text/plain": [
       "<Figure size 432x288 with 1 Axes>"
      ]
     },
     "metadata": {
      "needs_background": "light"
     },
     "output_type": "display_data"
    }
   ],
   "source": [
    "dados_tmp = dados_novos.copy()\n",
    "dados_tmp['Class'] = dados_tmp['Class'].apply(fraude)\n",
    "sns.countplot(data=dados_tmp,x='Class')\n",
    "plt.xlabel('Classe')\n",
    "plt.ylabel('Contagem')\n",
    "del dados_tmp"
   ]
  },
  {
   "cell_type": "markdown",
   "metadata": {},
   "source": [
    "Calcularemos a matriz de correlação para identificar variáveis que sejam mais sensíveis as transações com fraude. Para que isto possa ser bem identificado devemos usar a amostra balanceada gerada. Iremos mostrar a matriz de correlação sem o balanceamento para mostrar que seria muito complicado identificar as principais variáveis neste caso"
   ]
  },
  {
   "cell_type": "code",
   "execution_count": 34,
   "metadata": {},
   "outputs": [],
   "source": [
    "correlacao_desbalanceada = dados.corr()\n",
    "correlacao_balanceada = dados_novos.corr()"
   ]
  },
  {
   "cell_type": "code",
   "execution_count": 35,
   "metadata": {},
   "outputs": [
    {
     "data": {
      "text/plain": [
       "Text(0.5, 1, 'Matriz de correlação dados balanceados')"
      ]
     },
     "execution_count": 35,
     "metadata": {},
     "output_type": "execute_result"
    },
    {
     "data": {
      "image/png": "[encoded data removed]",
      "text/plain": [
       "<Figure size 1728x1440 with 4 Axes>"
      ]
     },
     "metadata": {
      "needs_background": "light"
     },
     "output_type": "display_data"
    }
   ],
   "source": [
    "f, (ax1, ax2) = plt.subplots(2, 1, figsize=(24,20))\n",
    "\n",
    "sns.heatmap(correlacao_desbalanceada, cmap='rainbow', annot_kws={'size':20}, ax=ax1)\n",
    "ax1.set_title(\"Matriz de correlação dados não balanceados\", fontsize=14)\n",
    "\n",
    "sns.heatmap(correlacao_balanceada, cmap='rainbow', annot_kws={'size':20}, ax=ax2)\n",
    "ax2.set_title('Matriz de correlação dados balanceados', fontsize=14)"
   ]
  },
  {
   "cell_type": "markdown",
   "metadata": {},
   "source": [
    "Podemos ver que para o caso com amostra não balanceada as variáveis parecem não possuir correlação. Já na amostra balanceada a correlação fica bem clara. "
   ]
  },
  {
   "cell_type": "markdown",
   "metadata": {},
   "source": [
    "V3, V10, V12 e V14 apresentam uma correlação negativa e quanto mais negativo o valor, mais indicará que temos uma transação com fraude"
   ]
  },
  {
   "cell_type": "markdown",
   "metadata": {},
   "source": [
    "V2, V4 e V11 apresentam uma correlação positiva e quando mais alto este valor, mais ele indicará que se trata de uma fraude"
   ]
  },
  {
   "cell_type": "markdown",
   "metadata": {},
   "source": [
    "Os gráficos de boxplot irão nos ajudara a entender melhor isso"
   ]
  },
  {
   "cell_type": "code",
   "execution_count": 36,
   "metadata": {},
   "outputs": [
    {
     "data": {
      "text/plain": [
       "<matplotlib.axes._subplots.AxesSubplot at 0x1a1d8a3510>"
      ]
     },
     "execution_count": 36,
     "metadata": {},
     "output_type": "execute_result"
    },
    {
     "data": {
      "image/png": "[encoded data removed]",
      "text/plain": [
       "<Figure size 1440x576 with 4 Axes>"
      ]
     },
     "metadata": {
      "needs_background": "light"
     },
     "output_type": "display_data"
    }
   ],
   "source": [
    "f, ax = plt.subplots(2,2, figsize=(20,8))\n",
    "\n",
    "sns.boxplot(x=\"Class\", y=\"V3\", data=dados_novos,ax=ax[0][0])\n",
    "sns.boxplot(x=\"Class\", y=\"V10\", data=dados_novos,ax=ax[0][1])\n",
    "sns.boxplot(x=\"Class\", y=\"V12\", data=dados_novos,ax=ax[1][0])\n",
    "sns.boxplot(x=\"Class\", y=\"V14\", data=dados_novos,ax=ax[1][1])"
   ]
  },
  {
   "cell_type": "code",
   "execution_count": 37,
   "metadata": {},
   "outputs": [
    {
     "data": {
      "text/plain": [
       "<matplotlib.axes._subplots.AxesSubplot at 0x1a1da52a50>"
      ]
     },
     "execution_count": 37,
     "metadata": {},
     "output_type": "execute_result"
    },
    {
     "data": {
      "image/png": "[encoded data removed]",
      "text/plain": [
       "<Figure size 1440x288 with 3 Axes>"
      ]
     },
     "metadata": {
      "needs_background": "light"
     },
     "output_type": "display_data"
    }
   ],
   "source": [
    "f, ax = plt.subplots(1,3, figsize=(20,4))\n",
    "\n",
    "sns.boxplot(x=\"Class\", y=\"V2\", data=dados_novos,ax=ax[0])\n",
    "sns.boxplot(x=\"Class\", y=\"V4\", data=dados_novos,ax=ax[1])\n",
    "sns.boxplot(x=\"Class\", y=\"V11\", data=dados_novos,ax=ax[2])"
   ]
  },
  {
   "cell_type": "markdown",
   "metadata": {},
   "source": [
    "Observamos de todos os boxplots a existência de muitos outliers que podem prejudicar os modelos de classificação. Iremos analisar cada um deles com mais cuidado e faremos o processo de remoção destes outliers"
   ]
  },
  {
   "cell_type": "code",
   "execution_count": 38,
   "metadata": {},
   "outputs": [],
   "source": [
    "from scipy.stats import norm"
   ]
  },
  {
   "cell_type": "code",
   "execution_count": 40,
   "metadata": {},
   "outputs": [
    {
     "data": {
      "image/png": "[encoded data removed]",
      "text/plain": [
       "<Figure size 1440x432 with 4 Axes>"
      ]
     },
     "metadata": {
      "needs_background": "light"
     },
     "output_type": "display_data"
    }
   ],
   "source": [
    "f, ax = plt.subplots(2,2, figsize=(20, 6))\n",
    "\n",
    "distribuicao_v3 = dados_novos['V3'].loc[dados_novos['Class'] == 0].values\n",
    "sns.distplot(distribuicao_v3,ax=ax[0][0], fit=norm)\n",
    "ax[0][0].set_title('Distribuição de V3 \\n (Transações com Fraude)', fontsize=14)\n",
    "\n",
    "distribuicao_v10 = dados_novos['V10'].loc[dados_novos['Class'] == 0].values\n",
    "sns.distplot(distribuicao_v10,ax=ax[0][1], fit=norm)\n",
    "ax[0][1].set_title('Distribuição de V10 \\n (Transações com Fraude)', fontsize=14)\n",
    "\n",
    "distribuicao_v12 = dados_novos['V12'].loc[dados_novos['Class'] == 0].values\n",
    "sns.distplot(distribuicao_v12,ax=ax[1][0], fit=norm)\n",
    "ax[1][0].set_title('Distribuição de V12 \\n (Transações com Fraude)', fontsize=14)\n",
    "\n",
    "distribuicao_v14 = dados_novos['V14'].loc[dados_novos['Class'] == 0].values\n",
    "sns.distplot(distribuicao_v14,ax=ax[1][1], fit=norm)\n",
    "ax[1][1].set_title('Distribuição de V14 \\n (Transações com Fraude)', fontsize=14)\n",
    "\n",
    "plt.tight_layout()"
   ]
  },
  {
   "cell_type": "code",
   "execution_count": 39,
   "metadata": {},
   "outputs": [
    {
     "data": {
      "image/png": "[encoded data removed]",
      "text/plain": [
       "<Figure size 1440x432 with 4 Axes>"
      ]
     },
     "metadata": {
      "needs_background": "light"
     },
     "output_type": "display_data"
    }
   ],
   "source": [
    "f, ax = plt.subplots(2,2, figsize=(20, 6))\n",
    "\n",
    "distribuicao_v3 = dados_novos['V3'].loc[dados_novos['Class'] == 1].values\n",
    "sns.distplot(distribuicao_v3,ax=ax[0][0], fit=norm)\n",
    "ax[0][0].set_title('Distribuição de V3 \\n (Transações com Fraude)', fontsize=14)\n",
    "\n",
    "distribuicao_v10 = dados_novos['V10'].loc[dados_novos['Class'] == 1].values\n",
    "sns.distplot(distribuicao_v10,ax=ax[0][1], fit=norm)\n",
    "ax[0][1].set_title('Distribuição de V10 \\n (Transações com Fraude)', fontsize=14)\n",
    "\n",
    "distribuicao_v12 = dados_novos['V12'].loc[dados_novos['Class'] == 1].values\n",
    "sns.distplot(distribuicao_v12,ax=ax[1][0], fit=norm)\n",
    "ax[1][0].set_title('Distribuição de V12 \\n (Transações com Fraude)', fontsize=14)\n",
    "\n",
    "distribuicao_v14 = dados_novos['V14'].loc[dados_novos['Class'] == 1].values\n",
    "sns.distplot(distribuicao_v14,ax=ax[1][1], fit=norm)\n",
    "ax[1][1].set_title('Distribuição de V14 \\n (Transações com Fraude)', fontsize=14)\n",
    "\n",
    "plt.tight_layout()"
   ]
  },
  {
   "cell_type": "markdown",
   "metadata": {},
   "source": [
    "Comparando as amostras com fraude e sem fraude, identificamos que no caso de fraude a variável V3 tem uma distribuição diferentes do caso sem fraude, onde neste caso os valores para fraude são mais negativos. A variável V10 fica mais centrada em torno de zero para o caso sem fraude e mais negativa para o caso com fraude. As variáveis V12 e V14 tem comportamento semelhante a V10. "
   ]
  },
  {
   "cell_type": "markdown",
   "metadata": {},
   "source": [
    "Faremos o processo de remoção de outliers nas variáveis que apresentaram maior correlação, onde espera-se que isto aumente a eficiência do modelo em identificar transações com fraude"
   ]
  },
  {
   "cell_type": "code",
   "execution_count": null,
   "metadata": {},
   "outputs": [],
   "source": [
    "v3_fraude = dados_novos['V3'].loc[dados_novos['Class'] == 1].values\n",
    "q25, q75 = np.percentile(v3_fraude, 25), np.percentile(v3_fraude, 75)\n",
    "\n",
    "v3_iqr = q75 - q25\n",
    "\n",
    "v3_cut_off = v3_iqr * 1.5\n",
    "v3_inferior, v3_superior = q25 - v3_cut_off, q75 + v3_cut_off\n",
    "\n",
    "outliers = [x for x in v3_fraude if x < v3_inferior or x > v3_superior]\n",
    "\n",
    "dados_novos = dados_novos.drop(dados_novos[(dados_novos['V3'] > v3_superior) | (dados_novos['V3'] < v3_inferior)].index)"
   ]
  },
  {
   "cell_type": "code",
   "execution_count": null,
   "metadata": {},
   "outputs": [],
   "source": [
    "v10_fraude = dados_novos['V10'].loc[dados_novos['Class'] == 1].values\n",
    "q25, q75 = np.percentile(v10_fraude, 25), np.percentile(v10_fraude, 75)\n",
    "\n",
    "v10_iqr = q75 - q25\n",
    "\n",
    "v10_cut_off = v10_iqr * 1.5\n",
    "v10_inferior, v10_superior = q25 - v10_cut_off, q75 + v10_cut_off\n",
    "\n",
    "outliers = [x for x in v10_fraude if x < v10_inferior or x > v10_superior]\n",
    "\n",
    "dados_novos = dados_novos.drop(dados_novos[(dados_novos['V10'] > v10_superior) | (dados_novos['V10'] < v10_inferior)].index)"
   ]
  },
  {
   "cell_type": "code",
   "execution_count": null,
   "metadata": {},
   "outputs": [],
   "source": [
    "v12_fraude = dados_novos['V12'].loc[dados_novos['Class'] == 1].values\n",
    "q25, q75 = np.percentile(v12_fraude, 25), np.percentile(v12_fraude, 75)\n",
    "\n",
    "v12_iqr = q75 - q25\n",
    "\n",
    "v12_cut_off = v12_iqr * 1.5\n",
    "v12_inferior, v12_superior = q25 - v12_cut_off, q75 + v12_cut_off\n",
    "\n",
    "outliers = [x for x in v12_fraude if x < v12_inferior or x > v12_superior]\n",
    "\n",
    "dados_novos = dados_novos.drop(dados_novos[(dados_novos['V12'] > v12_superior) | (dados_novos['V12'] < v12_inferior)].index)"
   ]
  },
  {
   "cell_type": "code",
   "execution_count": null,
   "metadata": {},
   "outputs": [],
   "source": [
    "v14_fraude = dados_novos['V14'].loc[dados_novos['Class'] == 1].values\n",
    "q25, q75 = np.percentile(v14_fraude, 25), np.percentile(v14_fraude, 75)\n",
    "\n",
    "v14_iqr = q75 - q25\n",
    "\n",
    "v14_cut_off = v14_iqr * 1.5\n",
    "v14_inferior, v14_superior = q25 - v14_cut_off, q75 + v14_cut_off\n",
    "\n",
    "outliers = [x for x in v14_fraude if x < v14_inferior or x > v14_superior]\n",
    "\n",
    "dados_novos = dados_novos.drop(dados_novos[(dados_novos['V14'] > v14_superior) | (dados_novos['V14'] < v14_inferior)].index)"
   ]
  },
  {
   "cell_type": "code",
   "execution_count": null,
   "metadata": {},
   "outputs": [],
   "source": [
    "f, ax = plt.subplots(2,2, figsize=(20,8))\n",
    "\n",
    "sns.boxplot(x=\"Class\", y=\"V3\", data=dados_novos,ax=ax[0][0])\n",
    "ax[0][0].set_title(\"V3 com redução de outliers\", fontsize=14)\n",
    "sns.boxplot(x=\"Class\", y=\"V10\", data=dados_novos,ax=ax[0][1])\n",
    "ax[0][1].set_title(\"V10 com redução de outliers\", fontsize=14)\n",
    "sns.boxplot(x=\"Class\", y=\"V12\", data=dados_novos,ax=ax[1][0])\n",
    "ax[1][0].set_title(\"V12 com redução de outliers\", fontsize=14)\n",
    "sns.boxplot(x=\"Class\", y=\"V14\", data=dados_novos,ax=ax[1][1])\n",
    "ax[1][1].set_title(\"V14 com redução de outliers\", fontsize=14)\n",
    "plt.tight_layout()"
   ]
  },
  {
   "cell_type": "code",
   "execution_count": null,
   "metadata": {},
   "outputs": [],
   "source": [
    "from sklearn.manifold import TSNE\n",
    "from sklearn.decomposition import PCA, TruncatedSVD\n",
    "import matplotlib.patches as mpatches"
   ]
  },
  {
   "cell_type": "code",
   "execution_count": null,
   "metadata": {},
   "outputs": [],
   "source": [
    "X = dados_novos.drop('Class', axis=1).values\n",
    "Y = dados_novos['Class'].values"
   ]
  },
  {
   "cell_type": "code",
   "execution_count": null,
   "metadata": {},
   "outputs": [],
   "source": [
    "X_reduzido_tsne = TSNE(n_components=2, random_state=42).fit_transform(X)"
   ]
  },
  {
   "cell_type": "code",
   "execution_count": null,
   "metadata": {},
   "outputs": [],
   "source": [
    "X_reduzido_pca = PCA(n_components=2, random_state=42).fit_transform(X)"
   ]
  },
  {
   "cell_type": "code",
   "execution_count": null,
   "metadata": {},
   "outputs": [],
   "source": [
    "X_reduzido_svd = TruncatedSVD(n_components=2, algorithm='randomized', random_state=42).fit_transform(X)"
   ]
  },
  {
   "cell_type": "code",
   "execution_count": null,
   "metadata": {},
   "outputs": [],
   "source": [
    "azul = mpatches.Patch(color='#0A0AFF', label='Sem fraude')\n",
    "vermelho = mpatches.Patch(color='#AF0000', label='Fraude')"
   ]
  },
  {
   "cell_type": "code",
   "execution_count": null,
   "metadata": {},
   "outputs": [],
   "source": [
    "f, (ax1, ax2, ax3) = plt.subplots(1, 3, figsize=(24,6))\n",
    "ax1.scatter(X_reduzido_tsne[:,0], X_reduzido_tsne[:,1], c=(Y == 0), cmap='coolwarm', label='Sem fraude', linewidths=2)\n",
    "ax1.scatter(X_reduzido_tsne[:,0], X_reduzido_tsne[:,1], c=(Y == 1), cmap='coolwarm', label='Fraude', linewidths=2)\n",
    "ax1.set_title('t-SNE', fontsize=14)\n",
    "ax1.grid(True)\n",
    "ax1.legend(handles=[azul, vermelho])\n",
    "\n",
    "ax2.scatter(X_reduzido_pca[:,0], X_reduzido_pca[:,1], c=(Y == 0), cmap='coolwarm', label='Sem fraude', linewidths=2)\n",
    "ax2.scatter(X_reduzido_pca[:,0], X_reduzido_pca[:,1], c=(Y == 1), cmap='coolwarm', label='Fraude', linewidths=2)\n",
    "ax2.set_title('PCA', fontsize=14)\n",
    "ax2.grid(True)\n",
    "ax2.legend(handles=[azul, vermelho])\n",
    "\n",
    "ax3.scatter(X_reduzido_svd[:,0], X_reduzido_svd[:,1], c=(Y == 0), cmap='coolwarm', label='Sem fraude', linewidths=2)\n",
    "ax3.scatter(X_reduzido_svd[:,0], X_reduzido_svd[:,1], c=(Y == 1), cmap='coolwarm', label='Fraude', linewidths=2)\n",
    "ax3.set_title('SVD', fontsize=14)\n",
    "ax3.grid(True)\n",
    "ax3.legend(handles=[azul, vermelho])"
   ]
  },
  {
   "cell_type": "code",
   "execution_count": null,
   "metadata": {},
   "outputs": [],
   "source": [
    "from sklearn.model_selection import train_test_split"
   ]
  },
  {
   "cell_type": "code",
   "execution_count": null,
   "metadata": {},
   "outputs": [],
   "source": [
    "X_treino, X_teste, Y_treino, Y_teste = train_test_split(X, Y, test_size=0.2, random_state=42)"
   ]
  },
  {
   "cell_type": "code",
   "execution_count": null,
   "metadata": {},
   "outputs": [],
   "source": [
    "from sklearn.linear_model import LogisticRegression\n",
    "from sklearn.svm import SVC\n",
    "from sklearn.neighbors import KNeighborsClassifier\n",
    "from sklearn.tree import DecisionTreeClassifier\n",
    "from sklearn.ensemble import RandomForestClassifier"
   ]
  },
  {
   "cell_type": "code",
   "execution_count": null,
   "metadata": {},
   "outputs": [],
   "source": [
    "modelos = {\n",
    "    \"Regressao Logistica\": LogisticRegression(),\n",
    "    \"KNN\": KNeighborsClassifier(),\n",
    "    \"SVC\": SVC(),\n",
    "    \"Decision Tree Classifier\": DecisionTreeClassifier(),\n",
    "    \"RDC\" : RandomForestClassifier()\n",
    "}"
   ]
  },
  {
   "cell_type": "code",
   "execution_count": null,
   "metadata": {},
   "outputs": [],
   "source": [
    "from sklearn.model_selection import cross_val_score"
   ]
  },
  {
   "cell_type": "code",
   "execution_count": null,
   "metadata": {},
   "outputs": [],
   "source": [
    "for nome, modelo in modelos.items():\n",
    "    modelo.fit(X_treino, Y_treino)\n",
    "    score_treino = cross_val_score(modelo, X_treino, Y_treino, cv=5)\n",
    "    print(\"Modelo: \", modelo.__class__.__name__, \"possui acuracia\", round(score_treino.mean(), 2) * 100, \"%\")"
   ]
  },
  {
   "cell_type": "code",
   "execution_count": null,
   "metadata": {},
   "outputs": [],
   "source": [
    "from sklearn.model_selection import GridSearchCV"
   ]
  },
  {
   "cell_type": "code",
   "execution_count": null,
   "metadata": {},
   "outputs": [],
   "source": [
    "log_reg_params = {\"penalty\": ['l1', 'l2'], 'C': [0.001, 0.01, 0.1, 1, 10, 100, 1000]}\n",
    "grid_log_reg = GridSearchCV(LogisticRegression(), log_reg_params)\n",
    "grid_log_reg.fit(X_treino, Y_treino)\n",
    "log_reg = grid_log_reg.best_estimator_\n",
    "log_reg_score = cross_val_score(log_reg, X_treino, Y_treino, cv=5)\n",
    "print('Score Regressao Logistica Validacao Cruzada: ', round(log_reg_score.mean() * 100, 2).astype(str) + '%')"
   ]
  },
  {
   "cell_type": "code",
   "execution_count": null,
   "metadata": {},
   "outputs": [],
   "source": [
    "knears_params = {\"n_neighbors\": list(range(2,5,1)), 'algorithm': ['auto', 'ball_tree', 'kd_tree', 'brute']}\n",
    "grid_knears = GridSearchCV(KNeighborsClassifier(), knears_params)\n",
    "grid_knears.fit(X_treino, Y_treino)\n",
    "knears_neighbors = grid_knears.best_estimator_\n",
    "knears_score = cross_val_score(knears_neighbors, X_treino, Y_treino, cv=5)\n",
    "print('Score KNN Validacao Cruzada: ', round(knears_score.mean() * 100, 2).astype(str) + '%')"
   ]
  },
  {
   "cell_type": "code",
   "execution_count": null,
   "metadata": {},
   "outputs": [],
   "source": [
    "svc_params = {'C': [0.5, 0.7, 0.9, 1], 'kernel': ['rbf', 'poly', 'sigmoid', 'linear']}\n",
    "grid_svc = GridSearchCV(SVC(), svc_params)\n",
    "grid_svc.fit(X_treino, Y_treino)\n",
    "svc = grid_svc.best_estimator_\n",
    "svc_score = cross_val_score(svc, X_treino, Y_treino, cv=5)\n",
    "print('Score SVC Validacao Cruzada: ', round(svc_score.mean() * 100, 2).astype(str) + '%')"
   ]
  },
  {
   "cell_type": "code",
   "execution_count": null,
   "metadata": {},
   "outputs": [],
   "source": [
    "tree_params = {\"criterion\": [\"gini\", \"entropy\"], \"max_depth\": list(range(2,4,1)), \n",
    "              \"min_samples_leaf\": list(range(5,7,1))}\n",
    "grid_tree = GridSearchCV(DecisionTreeClassifier(), tree_params)\n",
    "grid_tree.fit(X_treino, Y_treino)\n",
    "tree_clf = grid_tree.best_estimator_\n",
    "tree_score = cross_val_score(tree_clf, X_treino, Y_treino, cv=5)\n",
    "print('Score DTC Validacao Cruzada: ', round(svc_score.mean() * 100, 2).astype(str) + '%')"
   ]
  },
  {
   "cell_type": "code",
   "execution_count": null,
   "metadata": {},
   "outputs": [],
   "source": [
    "tree_params = {\"criterion\": [\"gini\", \"entropy\"], \"max_depth\": list(range(2,4,1)), \n",
    "              \"min_samples_leaf\": list(range(5,7,1))}\n",
    "grid_tree = GridSearchCV(RandomForestClassifier(), tree_params)\n",
    "grid_tree.fit(X_treino, Y_treino)\n",
    "tree_clf = grid_tree.best_estimator_\n",
    "tree_score = cross_val_score(tree_clf, X_treino, Y_treino, cv=5)\n",
    "print('Score RFC Validacao Cruzada: ', round(svc_score.mean() * 100, 2).astype(str) + '%')"
   ]
  },
  {
   "cell_type": "code",
   "execution_count": null,
   "metadata": {},
   "outputs": [],
   "source": [
    "X_subamostra = dados.drop('Class', axis=1)\n",
    "Y_subamostra = dados['Class']"
   ]
  },
  {
   "cell_type": "code",
   "execution_count": null,
   "metadata": {},
   "outputs": [],
   "source": [
    "for indice_treino, indice_teste in strat_kfold.split(X_subamostra, Y_subamostra):\n",
    "    print(\"Treino:\", indice_treino, \"Teste:\", indice_teste)\n",
    "    X_treino_subamostra, X_teste_subamostra = X_subamostra.iloc[indice_treino], X_subamostra.iloc[indice_teste]\n",
    "    Y_treino_subamostra, Y_teste_subamostra = Y_subamostra.iloc[indice_treino], Y_subamostra.iloc[indice_teste]"
   ]
  },
  {
   "cell_type": "code",
   "execution_count": null,
   "metadata": {},
   "outputs": [],
   "source": [
    "X_treino_subamostra = X_treino_subamostra.values\n",
    "X_teste_subamostra = X_teste_subamostra.values\n",
    "Y_treino_subamostra = Y_treino_subamostra.values\n",
    "Y_teste_subamostra = Y_teste_subamostra.values"
   ]
  },
  {
   "cell_type": "code",
   "execution_count": null,
   "metadata": {},
   "outputs": [],
   "source": [
    "from imblearn.under_sampling import NearMiss\n",
    "from imblearn.pipeline import make_pipeline as imbalanced_make_pipeline\n",
    "from imblearn.metrics import classification_report_imbalanced"
   ]
  },
  {
   "cell_type": "code",
   "execution_count": null,
   "metadata": {},
   "outputs": [],
   "source": [
    "from sklearn.metrics import precision_score, recall_score, f1_score, roc_auc_score, accuracy_score, classification_report"
   ]
  },
  {
   "cell_type": "code",
   "execution_count": null,
   "metadata": {},
   "outputs": [],
   "source": [
    "X_nearmiss, Y_nearmiss = NearMiss().fit_sample(X_subamostra.values, Y_subamostra.values)"
   ]
  },
  {
   "cell_type": "code",
   "execution_count": null,
   "metadata": {},
   "outputs": [],
   "source": [
    "from collections import Counter"
   ]
  },
  {
   "cell_type": "code",
   "execution_count": null,
   "metadata": {},
   "outputs": [],
   "source": [
    "contagem_nearmiss = Counter(Y_nearmiss)"
   ]
  },
  {
   "cell_type": "code",
   "execution_count": null,
   "metadata": {},
   "outputs": [],
   "source": [
    "print('Contagem NearMiss: {}'.format(contagem_nearmiss))"
   ]
  },
  {
   "cell_type": "code",
   "execution_count": null,
   "metadata": {},
   "outputs": [],
   "source": [
    "acuracia_subamostra = []\n",
    "precisao_subamostra = []\n",
    "recall_subamostra = []\n",
    "f1_subamostra = []\n",
    "auc_subamostra = []\n",
    "\n",
    "\n",
    "for indice_treino, indice_teste in strat_kfold.split(X_treino_subamostra, Y_treino_subamostra):\n",
    "    pipeline_subamostra = imbalanced_make_pipeline(NearMiss(sampling_strategy='majority'), log_reg)\n",
    "    \n",
    "    modelo_subamostra = pipeline_subamostra.fit(X_treino_subamostra[indice_treino], Y_treino_subamostra[indice_treino])\n",
    "    \n",
    "    previsao_subamostra = modelo_subamostra.predict(X_treino_subamostra[indice_teste])\n",
    "    \n",
    "    acuracia_subamostra.append(pipeline_subamostra.score(X_treino_subamostra[indice_teste], Y_treino_subamostra[indice_teste]))\n",
    "    \n",
    "    precisao_subamostra.append(precision_score(Y_treino_subamostra[indice_teste],previsao_subamostra))\n",
    "    \n",
    "    recall_subamostra.append(recall_score(Y_treino_subamostra[indice_teste],previsao_subamostra))\n",
    "    \n",
    "    f1_subamostra.append(f1_score(Y_treino_subamostra[indice_teste],previsao_subamostra))\n",
    "    \n",
    "    auc_subamostra.append(roc_auc_score(Y_treino_subamostra[indice_teste],previsao_subamostra))"
   ]
  },
  {
   "cell_type": "code",
   "execution_count": null,
   "metadata": {},
   "outputs": [],
   "source": [
    "from sklearn.model_selection import ShuffleSplit\n",
    "from sklearn.model_selection import learning_curve"
   ]
  },
  {
   "cell_type": "code",
   "execution_count": null,
   "metadata": {},
   "outputs": [],
   "source": [
    "def plot_learning_curve(estimator1, estimator2, estimator3, estimator4, X, Y, ylim=None, cv=None,\n",
    "                        tamanho_treino=np.linspace(.1, 1.0, 5)):\n",
    "    \n",
    "    f, ax = plt.subplots(2,2, figsize=(20,14), sharey=True)\n",
    "    \n",
    "    if ylim is not None:\n",
    "        plt.ylim(*ylim)\n",
    "        \n",
    "    tamanho_treino, score_treino, score_teste = learning_curve(estimator1, X, Y, cv=cv, train_sizes=tamanho_treino,n_jobs=2)\n",
    "    media_score_treino = np.mean(score_treino, axis=1)\n",
    "    std_score_treino = np.std(score_treino, axis=1)\n",
    "    media_score_teste = np.mean(score_teste, axis=1)\n",
    "    std_score_teste = np.std(score_teste, axis=1)\n",
    "    \n",
    "    ax[0][0].fill_between(tamanho_treino, media_score_treino - std_score_treino,\n",
    "                     media_score_treino + std_score_treino, alpha=0.1,\n",
    "                     color=\"#ff9124\")\n",
    "    \n",
    "    ax[0][0].fill_between(tamanho_treino, media_score_teste - std_score_teste,\n",
    "                     media_score_teste + std_score_teste, alpha=0.1, color=\"#2492ff\")\n",
    "    \n",
    "    ax[0][0].plot(tamanho_treino, media_score_treino, 'o-', color=\"#ff9124\", label=\"Score treino\")\n",
    "    ax[0][0].plot(tamanho_treino, media_score_teste, 'o-', color=\"#2492ff\", label=\"Score Validação Cruzada\")\n",
    "    ax[0][0].set_title(\"Curva Regressão logistica\", fontsize=14)\n",
    "    ax[0][0].set_xlabel('Tamanho treino (m)')\n",
    "    ax[0][0].set_ylabel('Score')\n",
    "    ax[0][0].grid(True)\n",
    "    ax[0][0].legend(loc=\"best\")\n",
    "    \n",
    "    \n",
    "    tamanho_treino, score_treino, score_teste = learning_curve(estimator2, X, Y, cv=cv, train_sizes=tamanho_treino,n_jobs=2)\n",
    "    media_score_treino = np.mean(score_treino, axis=1)\n",
    "    std_score_treino = np.std(score_treino, axis=1)\n",
    "    media_score_teste = np.mean(score_teste, axis=1)\n",
    "    std_score_teste = np.std(score_teste, axis=1)\n",
    "    \n",
    "    ax[0][1].fill_between(tamanho_treino, media_score_treino - std_score_treino,\n",
    "                     media_score_treino + std_score_treino, alpha=0.1,\n",
    "                     color=\"#ff9124\")\n",
    "    \n",
    "    ax[0][1].fill_between(tamanho_treino, media_score_teste - std_score_teste,\n",
    "                     media_score_teste + std_score_teste, alpha=0.1, color=\"#2492ff\")\n",
    "    \n",
    "    ax[0][1].plot(tamanho_treino, media_score_treino, 'o-', color=\"#ff9124\", label=\"Score treino\")\n",
    "    ax[0][1].plot(tamanho_treino, media_score_teste, 'o-', color=\"#2492ff\", label=\"Score Validação Cruzada\")\n",
    "    ax[0][1].set_title(\"Curva KNN\", fontsize=14)\n",
    "    ax[0][1].set_xlabel('Tamanho treino (m)')\n",
    "    ax[0][1].set_ylabel('Score')\n",
    "    ax[0][1].grid(True)\n",
    "    ax[0][1].legend(loc=\"best\")\n",
    "    \n",
    "    \n",
    "    tamanho_treino, score_treino, score_teste = learning_curve(estimator3, X, Y, cv=cv, train_sizes=tamanho_treino,n_jobs=2)\n",
    "    media_score_treino = np.mean(score_treino, axis=1)\n",
    "    std_score_treino = np.std(score_treino, axis=1)\n",
    "    media_score_teste = np.mean(score_teste, axis=1)\n",
    "    std_score_teste = np.std(score_teste, axis=1)\n",
    "    \n",
    "    ax[1][0].fill_between(tamanho_treino, media_score_treino - std_score_treino,\n",
    "                     media_score_treino + std_score_treino, alpha=0.1,\n",
    "                     color=\"#ff9124\")\n",
    "    \n",
    "    ax[1][0].fill_between(tamanho_treino, media_score_teste - std_score_teste,\n",
    "                     media_score_teste + std_score_teste, alpha=0.1, color=\"#2492ff\")\n",
    "    \n",
    "    ax[1][0].plot(tamanho_treino, media_score_treino, 'o-', color=\"#ff9124\", label=\"Score treino\")\n",
    "    ax[1][0].plot(tamanho_treino, media_score_teste, 'o-', color=\"#2492ff\", label=\"Score Validação Cruzada\")\n",
    "    ax[1][0].set_title(\"Curva SVC\", fontsize=14)\n",
    "    ax[1][0].set_xlabel('Tamanho treino (m)')\n",
    "    ax[1][0].set_ylabel('Score')\n",
    "    ax[1][0].grid(True)\n",
    "    ax[1][0].legend(loc=\"best\")\n",
    "    \n",
    "    \n",
    "    tamanho_treino, score_treino, score_teste = learning_curve(estimator4, X, Y, cv=cv, train_sizes=tamanho_treino,n_jobs=2)\n",
    "    media_score_treino = np.mean(score_treino, axis=1)\n",
    "    std_score_treino = np.std(score_treino, axis=1)\n",
    "    media_score_teste = np.mean(score_teste, axis=1)\n",
    "    std_score_teste = np.std(score_teste, axis=1)\n",
    "    \n",
    "    ax[1][1].fill_between(tamanho_treino, media_score_treino - std_score_treino,\n",
    "                     media_score_treino + std_score_treino, alpha=0.1,\n",
    "                     color=\"#ff9124\")\n",
    "    \n",
    "    ax[1][1].fill_between(tamanho_treino, media_score_teste - std_score_teste,\n",
    "                     media_score_teste + std_score_teste, alpha=0.1, color=\"#2492ff\")\n",
    "    \n",
    "    ax[1][1].plot(tamanho_treino, media_score_treino, 'o-', color=\"#ff9124\", label=\"Score treino\")\n",
    "    ax[1][1].plot(tamanho_treino, media_score_teste, 'o-', color=\"#2492ff\", label=\"Score Validação Cruzada\")\n",
    "    ax[1][1].set_title(\"Curva DTC\", fontsize=14)\n",
    "    ax[1][1].set_xlabel('Tamanho treino (m)')\n",
    "    ax[1][1].set_ylabel('Score')\n",
    "    ax[1][1].grid(True)\n",
    "    ax[1][1].legend(loc=\"best\")\n",
    "    \n",
    "    return plt"
   ]
  },
  {
   "cell_type": "code",
   "execution_count": null,
   "metadata": {},
   "outputs": [],
   "source": [
    "cv = ShuffleSplit(n_splits=100, test_size=0.2, random_state=42)\n",
    "plot_learning_curve(log_reg, knears_neighbors, svc, tree_clf, X_treino, Y_treino, (0.87, 1.01), cv=cv)"
   ]
  },
  {
   "cell_type": "code",
   "execution_count": null,
   "metadata": {},
   "outputs": [],
   "source": [
    "from sklearn.metrics import roc_curve\n",
    "from sklearn.model_selection import cross_val_predict"
   ]
  },
  {
   "cell_type": "code",
   "execution_count": null,
   "metadata": {},
   "outputs": [],
   "source": [
    "previsao_reg_log = cross_val_predict(log_reg, X_treino, Y_treino, cv=5,method=\"decision_function\")\n",
    "previsao_knn = cross_val_predict(knears_neighbors, X_treino, Y_treino, cv=5)\n",
    "previsao_svc = cross_val_predict(svc, X_treino, Y_treino, cv=5,method=\"decision_function\")\n",
    "previsao_dtc = cross_val_predict(tree_clf, X_treino, Y_treino, cv=5)"
   ]
  },
  {
   "cell_type": "code",
   "execution_count": null,
   "metadata": {},
   "outputs": [],
   "source": [
    "from sklearn.metrics import roc_auc_score"
   ]
  },
  {
   "cell_type": "code",
   "execution_count": null,
   "metadata": {},
   "outputs": [],
   "source": [
    "print('Logistic Regression: ', roc_auc_score(Y_treino, previsao_reg_log))\n",
    "print('KNears Neighbors: ', roc_auc_score(Y_treino, previsao_knn))\n",
    "print('Support Vector Classifier: ', roc_auc_score(Y_treino, previsao_svc))\n",
    "print('Decision Tree Classifier: ', roc_auc_score(Y_treino, previsao_dtc))"
   ]
  },
  {
   "cell_type": "code",
   "execution_count": null,
   "metadata": {},
   "outputs": [],
   "source": [
    "log_fpr, log_tpr, log_thresold = roc_curve(Y_treino, previsao_reg_log)\n",
    "knear_fpr, knear_tpr, knear_threshold = roc_curve(Y_treino, previsao_knn)\n",
    "svc_fpr, svc_tpr, svc_threshold = roc_curve(Y_treino, previsao_svc)\n",
    "tree_fpr, tree_tpr, tree_threshold = roc_curve(Y_treino, previsao_dtc)"
   ]
  },
  {
   "cell_type": "code",
   "execution_count": null,
   "metadata": {},
   "outputs": [],
   "source": [
    "def graph_roc_curve_multiple(log_fpr, log_tpr, knear_fpr, knear_tpr, svc_fpr, svc_tpr, tree_fpr, tree_tpr):\n",
    "    plt.figure(figsize=(16,8))\n",
    "    plt.title('Curva ROC \\n Top 4 Classificadores', fontsize=18)\n",
    "    plt.plot(log_fpr, log_tpr, label='Score Regressão Logistica: {:.4f}'.format(roc_auc_score(Y_treino, previsao_reg_log)))\n",
    "    plt.plot(knear_fpr, knear_tpr, label='Score KNN: {:.4f}'.format(roc_auc_score(Y_treino, previsao_knn)))\n",
    "    plt.plot(svc_fpr, svc_tpr, label='Score SVC: {:.4f}'.format(roc_auc_score(Y_treino, previsao_svc)))\n",
    "    plt.plot(tree_fpr, tree_tpr, label='Score DTE: {:.4f}'.format(roc_auc_score(Y_treino, previsao_dtc)))\n",
    "    plt.plot([0, 1], [0, 1], 'k--')\n",
    "    plt.axis([-0.01, 1, 0, 1])\n",
    "    plt.xlabel('Taxa de Falso Positivo', fontsize=16)\n",
    "    plt.ylabel('Taxa Verdadeiro Positivo', fontsize=16)\n",
    "    plt.legend()"
   ]
  },
  {
   "cell_type": "code",
   "execution_count": null,
   "metadata": {},
   "outputs": [],
   "source": [
    "graph_roc_curve_multiple(log_fpr, log_tpr, knear_fpr, knear_tpr, svc_fpr, svc_tpr, tree_fpr, tree_tpr)"
   ]
  },
  {
   "cell_type": "code",
   "execution_count": null,
   "metadata": {},
   "outputs": [],
   "source": [
    "from sklearn.metrics import precision_recall_curve"
   ]
  },
  {
   "cell_type": "code",
   "execution_count": null,
   "metadata": {},
   "outputs": [],
   "source": [
    "precision_log, recall_log, threshold_log = precision_recall_curve(Y_treino, previsao_reg_log)\n",
    "precision_svc, recall_svc, threshold_svc = precision_recall_curve(Y_treino, previsao_svc)"
   ]
  },
  {
   "cell_type": "code",
   "execution_count": null,
   "metadata": {},
   "outputs": [],
   "source": [
    "from sklearn.metrics import recall_score, precision_score, f1_score, accuracy_score\n",
    "Y_pred_log = log_reg.predict(X_treino)\n",
    "Y_pred_svc = svc.predict(X_treino)"
   ]
  },
  {
   "cell_type": "code",
   "execution_count": null,
   "metadata": {},
   "outputs": [],
   "source": [
    "print('Regressão Logistica:')\n",
    "print('Overfitting: \\n')\n",
    "print('Recall Score: {:.2f}'.format(recall_score(Y_treino, Y_pred_log)))\n",
    "print('Precision Score: {:.2f}'.format(precision_score(Y_treino, Y_pred_log)))\n",
    "print('F1 Score: {:.2f}'.format(f1_score(Y_treino, Y_pred_log)))\n",
    "print('Accuracy Score: {:.2f}'.format(accuracy_score(Y_treino, Y_pred_log)))"
   ]
  },
  {
   "cell_type": "code",
   "execution_count": null,
   "metadata": {},
   "outputs": [],
   "source": [
    "print('SVC')\n",
    "print('Recall Score: {:.2f}'.format(recall_score(Y_treino, Y_pred_svc)))\n",
    "print('Precision Score: {:.2f}'.format(precision_score(Y_treino, Y_pred_svc)))\n",
    "print('F1 Score: {:.2f}'.format(f1_score(Y_treino, Y_pred_svc)))\n",
    "print('Accuracy Score: {:.2f}'.format(accuracy_score(Y_treino, Y_pred_svc)))"
   ]
  },
  {
   "cell_type": "code",
   "execution_count": null,
   "metadata": {},
   "outputs": [],
   "source": [
    "from imblearn.over_sampling import SMOTE\n",
    "from sklearn.model_selection import train_test_split, RandomizedSearchCV"
   ]
  },
  {
   "cell_type": "code",
   "execution_count": null,
   "metadata": {},
   "outputs": [],
   "source": [
    "lista_acuracia = []\n",
    "lista_precisao = []\n",
    "lista_recall = []\n",
    "lista_f1 = []\n",
    "lista_auc = []\n",
    "\n",
    "log_reg_sm = LogisticRegression()\n",
    "log_reg_params = {\"penalty\": ['l1', 'l2'], 'C': [0.001, 0.01, 0.1, 1, 10, 100, 1000]}\n",
    "rand_log_reg = RandomizedSearchCV(log_reg_sm, log_reg_params, n_iter=4)\n",
    "\n",
    "\n",
    "for treino, teste in strat_kfold.split(X_treino, Y_treino):\n",
    "    pipeline = imbalanced_make_pipeline(SMOTE(sampling_strategy='minority'), rand_log_reg)\n",
    "    modelo = pipeline.fit(X_treino[treino], Y_treino[treino])\n",
    "    best_est = rand_log_reg.best_estimator_\n",
    "    previsao = best_est.predict(X_treino[teste])\n",
    "    \n",
    "    lista_acuracia.append(pipeline.score(X_treino[teste], Y_treino[teste]))\n",
    "    lista_precisao.append(precision_score(Y_treino[teste], previsao))\n",
    "    lista_recall.append(recall_score(Y_treino[teste], previsao))\n",
    "    lista_f1.append(f1_score(Y_treino[teste], previsao))\n",
    "    lista_auc.append(roc_auc_score(Y_treino[teste], previsao))"
   ]
  },
  {
   "cell_type": "code",
   "execution_count": null,
   "metadata": {},
   "outputs": [],
   "source": [
    "print(\"Acuracia: {}\".format(np.mean(lista_acuracia)))\n",
    "print(\"Precisao: {}\".format(np.mean(lista_precisao)))\n",
    "print(\"Recall: {}\".format(np.mean(lista_recall)))\n",
    "print(\"F1: {}\".format(np.mean(lista_f1)))"
   ]
  },
  {
   "cell_type": "code",
   "execution_count": null,
   "metadata": {},
   "outputs": [],
   "source": [
    "labels = ['Sem Fraude', 'Com Fraude']\n",
    "previsao_smote = best_est.predict(X_teste)\n",
    "print(classification_report(Y_teste, previsao_smote, target_names=labels))"
   ]
  },
  {
   "cell_type": "code",
   "execution_count": null,
   "metadata": {},
   "outputs": [],
   "source": [
    "from sklearn.metrics import average_precision_score"
   ]
  },
  {
   "cell_type": "code",
   "execution_count": null,
   "metadata": {},
   "outputs": [],
   "source": [
    "Y_score = best_est.decision_function(X_teste)\n",
    "precisao_media = average_precision_score(Y_teste, Y_score)"
   ]
  },
  {
   "cell_type": "code",
   "execution_count": null,
   "metadata": {},
   "outputs": [],
   "source": [
    "print('Score Medio precision-recall: {0:0.2f}'.format(precisao_media))"
   ]
  },
  {
   "cell_type": "code",
   "execution_count": null,
   "metadata": {},
   "outputs": [],
   "source": [
    "precision, recall, _ = precision_recall_curve(Y_teste, Y_score)\n",
    "\n",
    "plt.step(recall, precision, color='r', alpha=0.2,where='post')\n",
    "plt.fill_between(recall, precision, step='post', alpha=0.2,color='#F59B00')\n",
    "\n",
    "plt.xlabel('Recall')\n",
    "plt.ylabel('Precisao')\n",
    "plt.ylim([0.0, 1.05])\n",
    "plt.xlim([0.0, 1.0])\n",
    "plt.title('Curva Precisao-Recall Superamostra: \\n Score Medio Precision-Recall Score ={0:0.2f}'.format(precisao_media), fontsize=16)"
   ]
  },
  {
   "cell_type": "code",
   "execution_count": null,
   "metadata": {},
   "outputs": [],
   "source": [
    "sm = SMOTE(sampling_strategy='minority', random_state=42)"
   ]
  },
  {
   "cell_type": "code",
   "execution_count": null,
   "metadata": {},
   "outputs": [],
   "source": [
    "Xsmote_treino, Ysmote_treino = sm.fit_sample(X_treino, Y_treino)"
   ]
  },
  {
   "cell_type": "code",
   "execution_count": null,
   "metadata": {},
   "outputs": [],
   "source": [
    "log_reg_sm = grid_log_reg.best_estimator_"
   ]
  },
  {
   "cell_type": "code",
   "execution_count": null,
   "metadata": {},
   "outputs": [],
   "source": [
    "log_reg_sm.fit(Xsmote_treino, Ysmote_treino)"
   ]
  },
  {
   "cell_type": "code",
   "execution_count": null,
   "metadata": {},
   "outputs": [],
   "source": [
    "from sklearn.metrics import confusion_matrix"
   ]
  },
  {
   "cell_type": "code",
   "execution_count": null,
   "metadata": {},
   "outputs": [],
   "source": [
    "Y_pred_log_reg = log_reg_sm.predict(X_teste)\n",
    "Y_pred_knear = knears_neighbors.predict(X_teste)\n",
    "Y_pred_svc = svc.predict(X_teste)\n",
    "Y_pred_tree = tree_clf.predict(X_teste)"
   ]
  },
  {
   "cell_type": "code",
   "execution_count": null,
   "metadata": {},
   "outputs": [],
   "source": [
    "cm_log_reg = confusion_matrix(Y_teste, Y_pred_log_reg)\n",
    "cm_kneighbors = confusion_matrix(Y_teste, Y_pred_knear)\n",
    "cm_svc = confusion_matrix(Y_teste, Y_pred_svc)\n",
    "cm_tree = confusion_matrix(Y_teste, Y_pred_tree)"
   ]
  },
  {
   "cell_type": "code",
   "execution_count": null,
   "metadata": {},
   "outputs": [],
   "source": [
    "fig, ax = plt.subplots(2, 2,figsize=(22,12))\n",
    "\n",
    "\n",
    "sns.heatmap(cm_log_reg, ax=ax[0][0], annot=True, cmap=plt.cm.copper)\n",
    "ax[0, 0].set_title(\"Regressão Logistica \\n Matriz de Confusão\", fontsize=14)\n",
    "ax[0, 0].set_xticklabels(['', ''], fontsize=14, rotation=90)\n",
    "ax[0, 0].set_yticklabels(['', ''], fontsize=14, rotation=360)\n",
    "\n",
    "sns.heatmap(cm_kneighbors, ax=ax[0][1], annot=True, cmap=plt.cm.copper)\n",
    "ax[0][1].set_title(\"KNN \\n Matriz de Confusão\", fontsize=14)\n",
    "ax[0][1].set_xticklabels(['', ''], fontsize=14, rotation=90)\n",
    "ax[0][1].set_yticklabels(['', ''], fontsize=14, rotation=360)\n",
    "\n",
    "sns.heatmap(cm_svc, ax=ax[1][0], annot=True, cmap=plt.cm.copper)\n",
    "ax[1][0].set_title(\"SVC \\n Matriz de Confusão\", fontsize=14)\n",
    "ax[1][0].set_xticklabels(['', ''], fontsize=14, rotation=90)\n",
    "ax[1][0].set_yticklabels(['', ''], fontsize=14, rotation=360)\n",
    "\n",
    "sns.heatmap(cm_tree, ax=ax[1][1], annot=True, cmap=plt.cm.copper)\n",
    "ax[1][1].set_title(\"DTC \\n Matriz de Confusão\", fontsize=14)\n",
    "ax[1][1].set_xticklabels(['', ''], fontsize=14, rotation=90)\n",
    "ax[1][1].set_yticklabels(['', ''], fontsize=14, rotation=360)"
   ]
  },
  {
   "cell_type": "code",
   "execution_count": null,
   "metadata": {},
   "outputs": [],
   "source": [
    "from sklearn.metrics import classification_report"
   ]
  },
  {
   "cell_type": "code",
   "execution_count": null,
   "metadata": {},
   "outputs": [],
   "source": [
    "print('Regresao Logistica:')\n",
    "print(classification_report(Y_teste, Y_pred_log_reg))\n",
    "\n",
    "print('KNN:')\n",
    "print(classification_report(Y_teste, Y_pred_knear))\n",
    "\n",
    "print('SVC:')\n",
    "print(classification_report(Y_teste, Y_pred_svc))\n",
    "\n",
    "print('DTC:')\n",
    "print(classification_report(Y_teste, Y_pred_tree))"
   ]
  },
  {
   "cell_type": "code",
   "execution_count": null,
   "metadata": {},
   "outputs": [],
   "source": [
    "Y_pred = log_reg.predict(X_teste)\n",
    "score_subamostra = accuracy_score(Y_teste, Y_pred)"
   ]
  },
  {
   "cell_type": "code",
   "execution_count": null,
   "metadata": {},
   "outputs": [],
   "source": [
    "Y_pred_sm = best_est.predict(X_teste)\n",
    "score_superamostra = accuracy_score(Y_teste, Y_pred_sm)"
   ]
  },
  {
   "cell_type": "code",
   "execution_count": null,
   "metadata": {},
   "outputs": [],
   "source": [
    "d = {'Tecnica': ['Subamostra aleatoria', 'Superamostra (SMOTE)'], 'Score': [score_subamostra, score_superamostra]}\n",
    "final_df = pd.DataFrame(data=d)"
   ]
  },
  {
   "cell_type": "code",
   "execution_count": null,
   "metadata": {},
   "outputs": [],
   "source": [
    "final_df"
   ]
  },
  {
   "cell_type": "code",
   "execution_count": null,
   "metadata": {},
   "outputs": [],
   "source": [
    "from keras.models import Sequential\n",
    "from keras.layers import Activation\n",
    "from keras.layers.core import Dense,Dropout\n",
    "from keras.optimizers import Adam\n",
    "from keras.metrics import categorical_crossentropy"
   ]
  },
  {
   "cell_type": "code",
   "execution_count": null,
   "metadata": {},
   "outputs": [],
   "source": [
    "n_inputs = X_treino.shape[1]"
   ]
  },
  {
   "cell_type": "code",
   "execution_count": null,
   "metadata": {},
   "outputs": [],
   "source": [
    "modelo = Sequential()\n",
    "modelo.add(Dense(n_inputs,input_shape=(n_inputs, ), activation='relu'))\n",
    "modelo.add(Dense(60,activation='relu'))\n",
    "modelo.add(Dropout(0.2))\n",
    "modelo.add(Dense(60,activation='relu'))\n",
    "modelo.add(Dense(30,activation='relu'))\n",
    "modelo.add(Dense(2, activation='softmax'))"
   ]
  },
  {
   "cell_type": "code",
   "execution_count": null,
   "metadata": {},
   "outputs": [],
   "source": [
    "modelo.summary()"
   ]
  },
  {
   "cell_type": "code",
   "execution_count": null,
   "metadata": {},
   "outputs": [],
   "source": [
    "modelo.compile(Adam(lr=0.001), loss='sparse_categorical_crossentropy', metrics=['accuracy'])"
   ]
  },
  {
   "cell_type": "code",
   "execution_count": null,
   "metadata": {},
   "outputs": [],
   "source": [
    "modelo.fit(X_treino, Y_treino, validation_split=0.2, batch_size=25, epochs=50, shuffle=True, verbose=2)"
   ]
  },
  {
   "cell_type": "code",
   "execution_count": null,
   "metadata": {},
   "outputs": [],
   "source": [
    "previsao_subamostra = modelo.predict(X_teste, batch_size=200, verbose=0)"
   ]
  },
  {
   "cell_type": "code",
   "execution_count": null,
   "metadata": {},
   "outputs": [],
   "source": [
    "previsao_fraude_subamostra = modelo.predict_classes(X_teste, batch_size=200, verbose=0)"
   ]
  },
  {
   "cell_type": "code",
   "execution_count": null,
   "metadata": {},
   "outputs": [],
   "source": [
    "import itertools"
   ]
  },
  {
   "cell_type": "code",
   "execution_count": null,
   "metadata": {},
   "outputs": [],
   "source": [
    "def plot_confusion_matrix(cm, classes,\n",
    "                          normalize=False,\n",
    "                          title='Matriz de confusão',\n",
    "                          cmap=plt.cm.Blues):\n",
    "\n",
    "    if normalize:\n",
    "        cm = cm.astype('float') / cm.sum(axis=1)[:, np.newaxis]\n",
    "        print(\"Matriz de confusão normalizada\")\n",
    "    else:\n",
    "        print('Matriz de confusão')\n",
    "\n",
    "    print(cm)\n",
    "\n",
    "    plt.imshow(cm, interpolation='nearest', cmap=cmap)\n",
    "    plt.title(title, fontsize=14)\n",
    "    plt.colorbar()\n",
    "    tick_marks = np.arange(len(classes))\n",
    "    plt.xticks(tick_marks, classes, rotation=45)\n",
    "    plt.yticks(tick_marks, classes)\n",
    "\n",
    "    fmt = '.2f' if normalize else 'd'\n",
    "    thresh = cm.max() / 2.\n",
    "    for i, j in itertools.product(range(cm.shape[0]), range(cm.shape[1])):\n",
    "        plt.text(j, i, format(cm[i, j], fmt),\n",
    "                 horizontalalignment=\"center\",\n",
    "                 color=\"white\" if cm[i, j] > thresh else \"black\")\n",
    "\n",
    "    plt.tight_layout()\n",
    "    plt.ylabel('Classe Verdadeira')\n",
    "    plt.xlabel('Classe Prevista')"
   ]
  },
  {
   "cell_type": "code",
   "execution_count": null,
   "metadata": {},
   "outputs": [],
   "source": [
    "cm_subamostra = confusion_matrix(Y_teste, previsao_fraude_subamostra)"
   ]
  },
  {
   "cell_type": "code",
   "execution_count": null,
   "metadata": {},
   "outputs": [],
   "source": [
    "labels = ['Sem Fraude', 'Com Fraude']\n",
    "\n",
    "plot_confusion_matrix(cm_subamostra, labels, title=\"Subamostra aleatoria \\n Matriz de confusão\", cmap=plt.cm.Reds)"
   ]
  },
  {
   "cell_type": "code",
   "execution_count": null,
   "metadata": {},
   "outputs": [],
   "source": [
    "n_inputs = Xsmote_treino.shape[1]"
   ]
  },
  {
   "cell_type": "code",
   "execution_count": null,
   "metadata": {},
   "outputs": [],
   "source": [
    "modelo_SMOTE = Sequential()\n",
    "modelo_SMOTE.add(Dense(n_inputs, input_shape=(n_inputs, ), activation='relu'))\n",
    "modelo_SMOTE.add(Dense(2*n_inputs, activation='relu'))\n",
    "modelo_SMOTE.add(Dropout(0.2))\n",
    "modelo_SMOTE.add(Dense(2*n_inputs, activation='relu'))\n",
    "modelo_SMOTE.add(Dense(n_inputs, activation='relu'))\n",
    "modelo_SMOTE.add(Dense(2, activation='softmax'))"
   ]
  },
  {
   "cell_type": "code",
   "execution_count": null,
   "metadata": {},
   "outputs": [],
   "source": [
    "modelo_SMOTE.compile(Adam(lr=0.0001), loss='sparse_categorical_crossentropy', metrics=['accuracy'])"
   ]
  },
  {
   "cell_type": "code",
   "execution_count": null,
   "metadata": {},
   "outputs": [],
   "source": [
    "modelo_SMOTE.fit(Xsmote_treino, Ysmote_treino, validation_split=0.2, batch_size=50, epochs=50, shuffle=True, verbose=2)"
   ]
  },
  {
   "cell_type": "code",
   "execution_count": null,
   "metadata": {},
   "outputs": [],
   "source": [
    "previsao_superamostra = modelo_SMOTE.predict(X_teste, batch_size=50, verbose=0)"
   ]
  },
  {
   "cell_type": "code",
   "execution_count": null,
   "metadata": {},
   "outputs": [],
   "source": [
    "previsao_fraude_superamostra = modelo_SMOTE.predict_classes(X_teste, batch_size=50, verbose=0)"
   ]
  },
  {
   "cell_type": "code",
   "execution_count": null,
   "metadata": {},
   "outputs": [],
   "source": [
    "cm_smote_superamostra = confusion_matrix(Y_teste, previsao_fraude_superamostra)\n",
    "labels = ['Sem Fraude', 'Com Fraude']\n",
    "plot_confusion_matrix(cm_smote_superamostra, labels, title=\"SMOTE Superamostra \\n Matriz de confusão\", cmap=plt.cm.Oranges)"
   ]
  },
  {
   "cell_type": "code",
   "execution_count": null,
   "metadata": {},
   "outputs": [],
   "source": []
  },
  {
   "cell_type": "code",
   "execution_count": null,
   "metadata": {},
   "outputs": [],
   "source": []
  }
 ],
 "metadata": {
  "kernelspec": {
   "display_name": "Python 3",
   "language": "python",
   "name": "python3"
  },
  "language_info": {
   "codemirror_mode": {
    "name": "ipython",
    "version": 3
   },
   "file_extension": ".py",
   "mimetype": "text/x-python",
   "name": "python",
   "nbconvert_exporter": "python",
   "pygments_lexer": "ipython3",
   "version": "3.7.7"
  }
 },
 "nbformat": 4,
 "nbformat_minor": 4
}
